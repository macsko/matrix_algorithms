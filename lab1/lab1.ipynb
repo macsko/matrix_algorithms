{
 "cells": [
  {
   "cell_type": "markdown",
   "id": "7a3b32d3-00ff-423d-9632-837150c4b4b6",
   "metadata": {},
   "source": [
    "# Algorytmy macierzowe"
   ]
  },
  {
   "cell_type": "markdown",
   "id": "ef155524-b8ba-48d0-b7c9-2205a0b0a270",
   "metadata": {},
   "source": [
    "## Mnożenie macierzy IGA i FEM"
   ]
  },
  {
   "cell_type": "code",
   "execution_count": 1,
   "id": "077cb237-df03-4c6d-9447-211be1fd2de4",
   "metadata": {},
   "outputs": [],
   "source": [
    "import numpy as np\n",
    "import re\n",
    "import matplotlib.pyplot as plt\n",
    "import scipy.sparse\n",
    "import time"
   ]
  },
  {
   "cell_type": "markdown",
   "id": "911d6c6f-0581-4d98-ba1a-f941d6590a15",
   "metadata": {
    "tags": []
   },
   "source": [
    "### Konwersja macierzy n x n wygenerowanej w Octave na macierz numpy nq x nq.    \n",
    "Wynikowa macierz, to macierz Octave powtórzona q razy w poziomie i pionie."
   ]
  },
  {
   "cell_type": "code",
   "execution_count": 2,
   "id": "95c1afd6-2c15-4b81-900e-a43105bfd4b3",
   "metadata": {},
   "outputs": [],
   "source": [
    "def input_matrix(octave_matrix, n, q=1):\n",
    "    result = np.zeros((n*q, n*q))\n",
    "    \n",
    "    for elem in octave_matrix:\n",
    "        m = re.match(r\"\\s*\\((\\d+), (\\d+)\\) -> (\\d+\\.\\d+)\\s*\", elem)\n",
    "        x, y, value = m.groups()\n",
    "        for i in range(q):\n",
    "            for j in range(q):\n",
    "                result[i*n + int(x) - 1, j*n + int(y) - 1] = float(value)\n",
    "        \n",
    "    return result"
   ]
  },
  {
   "cell_type": "code",
   "execution_count": 3,
   "id": "65cea712-3d00-489c-8441-dec3288579e8",
   "metadata": {},
   "outputs": [],
   "source": [
    "def load_octave_matrix(filename):\n",
    "    with open(filename, \"r\") as file:\n",
    "        return file.readlines()"
   ]
  },
  {
   "cell_type": "markdown",
   "id": "f4e07a70-48c7-486e-9764-8ace56ebb3bc",
   "metadata": {},
   "source": [
    "### Sześć algorytmów mnożenia macierzy w zależności od kolejności pętli i, j oraz p.    \n",
    "A - macierz wejściowa m x k    \n",
    "B - macierz wejściowa k x n    \n",
    "C - macierz wynikowa m x n"
   ]
  },
  {
   "cell_type": "code",
   "execution_count": 4,
   "id": "7dce5209-e975-4b98-a5cb-fc6217b939a8",
   "metadata": {},
   "outputs": [],
   "source": [
    "def matrix_mul_ijp(A, B, C, m, n, k):\n",
    "    for i in range(m):\n",
    "        for j in range(n):\n",
    "            for p in range(k):\n",
    "                 C[i,j] += A[i,p]*B[p,j]\n",
    "                    \n",
    "def matrix_mul_ipj(A, B, C, m, n, k):\n",
    "    for i in range(m):\n",
    "        for p in range(k):\n",
    "            for j in range(n):\n",
    "                 C[i,j] += A[i,p]*B[p,j]\n",
    "\n",
    "def matrix_mul_jip(A, B, C, m, n, k):\n",
    "    for j in range(n):\n",
    "        for i in range(m):\n",
    "            for p in range(k):\n",
    "                 C[i,j] += A[i,p]*B[p,j]\n",
    "\n",
    "def matrix_mul_jpi(A, B, C, m, n, k):\n",
    "    for j in range(n):\n",
    "        for p in range(k):\n",
    "            for i in range(m):\n",
    "                 C[i,j] += A[i,p]*B[p,j]\n",
    "\n",
    "def matrix_mul_pij(A, B, C, m, n, k):\n",
    "    for p in range(k):\n",
    "        for i in range(m):\n",
    "            for j in range(n):\n",
    "                 C[i,j] += A[i,p]*B[p,j]\n",
    "\n",
    "def matrix_mul_pji(A, B, C, m, n, k):\n",
    "    for p in range(k):\n",
    "        for j in range(n):\n",
    "            for i in range(m):\n",
    "                 C[i,j] += A[i,p]*B[p,j]"
   ]
  },
  {
   "cell_type": "markdown",
   "id": "7505f25f-64ee-4ed1-9547-36aa4cb31a30",
   "metadata": {},
   "source": [
    "### Sprawdzanie najszybszego algorytmu"
   ]
  },
  {
   "cell_type": "code",
   "execution_count": 5,
   "id": "f6fd9689-de35-4d7b-8124-fe122c65bddd",
   "metadata": {},
   "outputs": [],
   "source": [
    "n = 16\n",
    "q = 1\n",
    "N = n*q"
   ]
  },
  {
   "cell_type": "code",
   "execution_count": 6,
   "id": "f26076dc-2365-4ee8-a726-18517d14f5ef",
   "metadata": {},
   "outputs": [],
   "source": [
    "IGA = load_octave_matrix(\"iga16x16.txt\")"
   ]
  },
  {
   "cell_type": "code",
   "execution_count": 7,
   "id": "b00501d8-e3fd-4dd3-8c36-8ae0ba3f7625",
   "metadata": {},
   "outputs": [],
   "source": [
    "A = input_matrix(IGA, n, q)\n",
    "B = input_matrix(IGA, n, q)"
   ]
  },
  {
   "cell_type": "code",
   "execution_count": 8,
   "id": "ab76c8da-03aa-44ef-bdd4-cbae46c9a1ec",
   "metadata": {},
   "outputs": [
    {
     "name": "stdout",
     "output_type": "stream",
     "text": [
      "ijp:\n",
      "8.99 ms ± 566 µs per loop (mean ± std. dev. of 7 runs, 100 loops each)\n",
      "ipj:\n",
      "8 ms ± 520 µs per loop (mean ± std. dev. of 7 runs, 100 loops each)\n",
      "jip:\n",
      "7.99 ms ± 465 µs per loop (mean ± std. dev. of 7 runs, 100 loops each)\n",
      "jpi:\n",
      "8.01 ms ± 170 µs per loop (mean ± std. dev. of 7 runs, 100 loops each)\n",
      "pij:\n",
      "8.06 ms ± 76.2 µs per loop (mean ± std. dev. of 7 runs, 100 loops each)\n",
      "pji:\n",
      "9.09 ms ± 2.42 ms per loop (mean ± std. dev. of 7 runs, 100 loops each)\n"
     ]
    }
   ],
   "source": [
    "print(\"ijp:\")\n",
    "C = np.zeros((N, N))\n",
    "%timeit matrix_mul_ijp(A, B, C, N, N, N)\n",
    "\n",
    "print(\"ipj:\")\n",
    "C = np.zeros((N, N))\n",
    "%timeit matrix_mul_ipj(A, B, C, N, N, N)\n",
    "\n",
    "print(\"jip:\")\n",
    "C = np.zeros((N, N))\n",
    "%timeit matrix_mul_jip(A, B, C, N, N, N)\n",
    "\n",
    "print(\"jpi:\")\n",
    "C = np.zeros((N, N))\n",
    "%timeit matrix_mul_jpi(A, B, C, N, N, N)\n",
    "\n",
    "print(\"pij:\")\n",
    "C = np.zeros((N, N))\n",
    "%timeit matrix_mul_pij(A, B, C, N, N, N)\n",
    "\n",
    "print(\"pji:\")\n",
    "C = np.zeros((N, N))\n",
    "%timeit matrix_mul_pji(A, B, C, N, N, N)"
   ]
  },
  {
   "cell_type": "markdown",
   "id": "3aa5167e-b289-4675-ad1a-389d8271cf30",
   "metadata": {},
   "source": [
    "### Sprawdzanie niezerowych miejsc macierzy A, B i C"
   ]
  },
  {
   "cell_type": "code",
   "execution_count": 177,
   "id": "34f39a58-2478-4a62-a6db-5d0b725eda9d",
   "metadata": {},
   "outputs": [],
   "source": [
    "C = np.zeros((N, N))\n",
    "matrix_mul_pji(A, B, C, N, N, N)"
   ]
  },
  {
   "cell_type": "code",
   "execution_count": 178,
   "id": "26248e91-3fd3-4fd5-9f57-05bd0a7f75d1",
   "metadata": {},
   "outputs": [
    {
     "data": {
      "image/png": "[encoded data removed]",
      "text/plain": [
       "<Figure size 432x288 with 1 Axes>"
      ]
     },
     "metadata": {
      "needs_background": "light"
     },
     "output_type": "display_data"
    }
   ],
   "source": [
    "plt.spy(scipy.sparse.csr_matrix(A))\n",
    "plt.show()"
   ]
  },
  {
   "cell_type": "code",
   "execution_count": 179,
   "id": "1d6da61b-7868-4061-a152-6168a11de266",
   "metadata": {},
   "outputs": [
    {
     "data": {
      "image/png": "[encoded data removed]",
      "text/plain": [
       "<Figure size 432x288 with 1 Axes>"
      ]
     },
     "metadata": {
      "needs_background": "light"
     },
     "output_type": "display_data"
    }
   ],
   "source": [
    "plt.spy(scipy.sparse.csr_matrix(B))\n",
    "plt.show()"
   ]
  },
  {
   "cell_type": "code",
   "execution_count": 180,
   "id": "0852bd08-b179-4562-8d50-9f0f1afb99bc",
   "metadata": {},
   "outputs": [
    {
     "data": {
      "image/png": "[encoded data removed]",
      "text/plain": [
       "<Figure size 432x288 with 1 Axes>"
      ]
     },
     "metadata": {
      "needs_background": "light"
     },
     "output_type": "display_data"
    }
   ],
   "source": [
    "plt.spy(scipy.sparse.csr_matrix(C))\n",
    "plt.show()"
   ]
  },
  {
   "cell_type": "markdown",
   "id": "1b1d7212-39da-45f2-8f20-b72bd4c30dc6",
   "metadata": {
    "tags": []
   },
   "source": [
    "### Mnożenie blokowe macierzy przyjmując wielkość bloków: block_size x block_size."
   ]
  },
  {
   "cell_type": "markdown",
   "id": "4c2a178f-47ee-41f5-aa28-e48cfd19fe20",
   "metadata": {},
   "source": [
    "matrix_mul_fun to jedna z wybranych funkcji mnożenia macierzy zaimplementowanych wyżej"
   ]
  },
  {
   "cell_type": "code",
   "execution_count": 148,
   "id": "aa4dfc55-bdf1-4a99-bc2a-7fd37ddb66ab",
   "metadata": {},
   "outputs": [],
   "source": [
    "def matrix_block_mul(A, B, C, m, n, k, block_size, matrix_mul_fun):\n",
    "    for j in range(0, n, block_size):\n",
    "        j_block = min(n - j, block_size)\n",
    "        for i in range(0, m, block_size):\n",
    "            i_block = min(m - i, block_size)\n",
    "            for p in range(0, k, block_size):\n",
    "                p_block = min(k - p, block_size)\n",
    "                matrix_mul_fun(A[i:i + i_block, p:p + p_block], \n",
    "                               B[p:p + p_block, j:j + j_block], \n",
    "                               C[i:i + i_block, j:j + j_block], \n",
    "                               i_block, j_block, p_block)"
   ]
  },
  {
   "cell_type": "code",
   "execution_count": 217,
   "id": "1f3775ad-8401-473a-81b6-4c9c000d6cdd",
   "metadata": {},
   "outputs": [
    {
     "data": {
      "image/png": "[encoded data removed]",
      "text/plain": [
       "<Figure size 432x288 with 1 Axes>"
      ]
     },
     "metadata": {
      "needs_background": "light"
     },
     "output_type": "display_data"
    }
   ],
   "source": [
    "blocks = []\n",
    "mul_time = []\n",
    "multiplier = 10\n",
    "runs = 100\n",
    "\n",
    "for i in range(1, 11):\n",
    "    C = np.zeros((N, N))\n",
    "    t0 = time.time()\n",
    "    for j in range(runs):\n",
    "        matrix_block_mul(A, B, C, N, N, N, multiplier*i, matrix_mul_pji) # wstawić optymalny\n",
    "    blocks.append(multiplier*i)\n",
    "    mul_time.append((time.time() - t0)/100)\n",
    "    \n",
    "plt.plot(blocks, mul_time)\n",
    "plt.xlabel(\"Rozmiar bloków\")\n",
    "plt.ylabel(\"Czas mnożenia [s]\")\n",
    "plt.show()"
   ]
  }
 ],
 "metadata": {
  "kernelspec": {
   "display_name": "Python 3 (ipykernel)",
   "language": "python",
   "name": "python3"
  },
  "language_info": {
   "codemirror_mode": {
    "name": "ipython",
    "version": 3
   },
   "file_extension": ".py",
   "mimetype": "text/x-python",
   "name": "python",
   "nbconvert_exporter": "python",
   "pygments_lexer": "ipython3",
   "version": "3.8.3"
  }
 },
 "nbformat": 4,
 "nbformat_minor": 5
}
