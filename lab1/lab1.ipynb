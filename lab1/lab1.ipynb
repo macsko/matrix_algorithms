{
 "cells": [
  {
   "cell_type": "markdown",
   "id": "7a3b32d3-00ff-423d-9632-837150c4b4b6",
   "metadata": {},
   "source": [
    "# Algorytmy macierzowe"
   ]
  },
  {
   "cell_type": "markdown",
   "id": "ef155524-b8ba-48d0-b7c9-2205a0b0a270",
   "metadata": {},
   "source": [
    "## Mnożenie macierzy IGA i FEM"
   ]
  },
  {
   "cell_type": "code",
   "execution_count": 69,
   "id": "077cb237-df03-4c6d-9447-211be1fd2de4",
   "metadata": {},
   "outputs": [],
   "source": [
    "import numpy as np\n",
    "import re\n",
    "import matplotlib.pyplot as plt\n",
    "import scipy.sparse\n",
    "import time\n",
    "import os"
   ]
  },
  {
   "cell_type": "markdown",
   "id": "911d6c6f-0581-4d98-ba1a-f941d6590a15",
   "metadata": {
    "tags": []
   },
   "source": [
    "### Konwersja macierzy n x n wygenerowanej w Octave na macierz numpy nq x nq.    \n",
    "Wynikowa macierz, to macierz Octave powtórzona q razy w poziomie i pionie."
   ]
  },
  {
   "cell_type": "code",
   "execution_count": 95,
   "id": "95c1afd6-2c15-4b81-900e-a43105bfd4b3",
   "metadata": {},
   "outputs": [],
   "source": [
    "def input_matrix(octave_matrix, n, m, q=1):\n",
    "    result = np.zeros((n*q, m*q))\n",
    "    \n",
    "    for elem in octave_matrix:\n",
    "        m = re.match(r\"\\s*\\((\\d+), (\\d+)\\) -> (\\d+\\.\\d+)\\s*\", elem)\n",
    "        if m is None: continue # empty line at file end\n",
    "        x, y, value = m.groups()\n",
    "        for i in range(q):\n",
    "            for j in range(q):\n",
    "                result[i*n + int(x) - 1, j*n + int(y) - 1] = float(value)\n",
    "        \n",
    "    return result"
   ]
  },
  {
   "cell_type": "code",
   "execution_count": 96,
   "id": "65cea712-3d00-489c-8441-dec3288579e8",
   "metadata": {},
   "outputs": [],
   "source": [
    "def load_octave_matrix(filename):\n",
    "    with open(filename, \"r\") as file:\n",
    "        return file.readlines()"
   ]
  },
  {
   "cell_type": "code",
   "execution_count": 97,
   "id": "60d011d4",
   "metadata": {},
   "outputs": [],
   "source": [
    "data_dir = \"../output\"\n",
    "\n",
    "def resolve_path(matrix_type, width, height = None):\n",
    "    if height is None: height = width\n",
    "    path = f\"{data_dir}/{matrix_type}-{width}x{height}.txt\"\n",
    "    if os.path.isfile(path): return path\n",
    "    else: raise FileNotFoundError(f\"Matrix file {path} not found\")\n",
    "\n",
    "resolve_matrix = lambda matrix_type, n, m, q = 1: input_matrix(\n",
    "    load_octave_matrix(resolve_path(matrix_type, n, m)), n, m, q\n",
    ")"
   ]
  },
  {
   "cell_type": "markdown",
   "id": "f4e07a70-48c7-486e-9764-8ace56ebb3bc",
   "metadata": {},
   "source": [
    "### Sześć algorytmów mnożenia macierzy w zależności od kolejności pętli i, j oraz p.    \n",
    "A - macierz wejściowa n x m    \n",
    "B - macierz wejściowa m x k   \n",
    "C - macierz wynikowa n x k"
   ]
  },
  {
   "cell_type": "code",
   "execution_count": 108,
   "id": "7dce5209-e975-4b98-a5cb-fc6217b939a8",
   "metadata": {},
   "outputs": [],
   "source": [
    "def matrix_mul_ijp(A, B, C, n, m, k):\n",
    "    for i in range(n):\n",
    "        for j in range(m):\n",
    "            for p in range(k):\n",
    "                 C[i,j] += A[i,p]*B[p,j]\n",
    "                    \n",
    "def matrix_mul_ipj(A, B, C, n, m, k):\n",
    "    for i in range(n):\n",
    "        for p in range(k):\n",
    "            for j in range(m):\n",
    "                 C[i,j] += A[i,p]*B[p,j]\n",
    "\n",
    "def matrix_mul_jip(A, B, C, n, m, k):\n",
    "    for j in range(m):\n",
    "        for i in range(n):\n",
    "            for p in range(k):\n",
    "                 C[i,j] += A[i,p]*B[p,j]\n",
    "\n",
    "def matrix_mul_jpi(A, B, C, n, m, k):\n",
    "    for j in range(m):\n",
    "        for p in range(k):\n",
    "            for i in range(n):\n",
    "                 C[i,j] += A[i,p]*B[p,j]\n",
    "\n",
    "def matrix_mul_pij(A, B, C, n, m, k):\n",
    "    for p in range(k):\n",
    "        for i in range(n):\n",
    "            for j in range(m):\n",
    "                 C[i,j] += A[i,p]*B[p,j]\n",
    "\n",
    "def matrix_mul_pji(A, B, C, n, m, k):\n",
    "    for p in range(k):\n",
    "        for j in range(m):\n",
    "            for i in range(n):\n",
    "                 C[i,j] += A[i,p]*B[p,j]\n",
    "\n",
    "mmul = {\n",
    "    \"ijp\": matrix_mul_ijp,\n",
    "    \"ipj\": matrix_mul_ipj,\n",
    "    \"jip\": matrix_mul_jip,\n",
    "    \"jpi\": matrix_mul_jpi,\n",
    "    \"pij\": matrix_mul_pij,\n",
    "    \"pji\": matrix_mul_pji\n",
    "}"
   ]
  },
  {
   "cell_type": "markdown",
   "id": "c02f85af",
   "metadata": {},
   "source": [
    "### Macierze wejściowe"
   ]
  },
  {
   "cell_type": "code",
   "execution_count": 104,
   "id": "344256f5",
   "metadata": {},
   "outputs": [],
   "source": [
    "n = 16   # liczba wierszy macierzy A\n",
    "m = 16   # liczba kolumn macierzy A / liczba wierszy macierzy B\n",
    "k = 16   # liczba kolumn macierzy B\n",
    "q = 1    # czynnik skalujący macierze\n",
    "N_n = n * q\n",
    "N_m = m * q\n",
    "N_k = k * q"
   ]
  },
  {
   "cell_type": "code",
   "execution_count": 105,
   "id": "2e3b16ae",
   "metadata": {},
   "outputs": [],
   "source": [
    "A = resolve_matrix(\"iga\", n, m, q)\n",
    "B = resolve_matrix(\"iga\", m, k, q)"
   ]
  },
  {
   "cell_type": "markdown",
   "id": "7505f25f-64ee-4ed1-9547-36aa4cb31a30",
   "metadata": {},
   "source": [
    "### Sprawdzanie najszybszego algorytmu"
   ]
  },
  {
   "cell_type": "code",
   "execution_count": 111,
   "id": "ab76c8da-03aa-44ef-bdd4-cbae46c9a1ec",
   "metadata": {},
   "outputs": [
    {
     "name": "stdout",
     "output_type": "stream",
     "text": [
      "ijp:\n",
      "1.69 ms ± 35.5 µs per loop (mean ± std. dev. of 7 runs, 1000 loops each)\n",
      "ipj:\n",
      "1.73 ms ± 27.2 µs per loop (mean ± std. dev. of 7 runs, 1000 loops each)\n",
      "jip:\n",
      "1.75 ms ± 35.8 µs per loop (mean ± std. dev. of 7 runs, 1000 loops each)\n",
      "jpi:\n",
      "1.74 ms ± 19.7 µs per loop (mean ± std. dev. of 7 runs, 1000 loops each)\n",
      "pij:\n",
      "1.73 ms ± 34.2 µs per loop (mean ± std. dev. of 7 runs, 1000 loops each)\n",
      "pji:\n",
      "1.7 ms ± 38.1 µs per loop (mean ± std. dev. of 7 runs, 1000 loops each)\n",
      "Najszybsza konfiguracja: ijp\n"
     ]
    }
   ],
   "source": [
    "min_loop_time = 99999999999999 # infinity\n",
    "min_mul_type = \"ijp\"\n",
    "mmul_optimal = mmul[min_mul_type]\n",
    "for mul_type, mul_fun in mmul.items():\n",
    "    print(f\"{mul_type}:\")\n",
    "    C = np.zeros((N_n, N_k))\n",
    "    loop_time = %timeit -o mul_fun(A, B, C, N_n, N_m, N_k)\n",
    "    if min_loop_time > loop_time.average:\n",
    "        min_loop_time = loop_time.average\n",
    "        min_mul_type = mul_type\n",
    "        mmul_optimal = mul_fun\n",
    "\n",
    "print(f\"\\nNajszybsza konfiguracja: {min_mul_type}\")"
   ]
  },
  {
   "cell_type": "markdown",
   "id": "3bf4dd06",
   "metadata": {},
   "source": [
    "### Arbitralny wybór optymalnego algorytmu \n",
    "\n",
    "Jeżeli ma zostać wykorzystany algorytm wyznaczony obliczeniowo (w komórce powyżej), nie wykonywać komórki poniżej."
   ]
  },
  {
   "cell_type": "code",
   "execution_count": 112,
   "id": "2fa96833",
   "metadata": {},
   "outputs": [],
   "source": [
    "mmul_optimal = mmul[\"ijp\"]"
   ]
  },
  {
   "cell_type": "markdown",
   "id": "3aa5167e-b289-4675-ad1a-389d8271cf30",
   "metadata": {},
   "source": [
    "### Sprawdzanie niezerowych miejsc macierzy A, B i C"
   ]
  },
  {
   "cell_type": "code",
   "execution_count": 114,
   "id": "34f39a58-2478-4a62-a6db-5d0b725eda9d",
   "metadata": {},
   "outputs": [],
   "source": [
    "C = np.zeros((N_n, N_k))\n",
    "mmul_optimal(A, B, C, N_n, N_m, N_k)"
   ]
  },
  {
   "cell_type": "code",
   "execution_count": 115,
   "id": "26248e91-3fd3-4fd5-9f57-05bd0a7f75d1",
   "metadata": {},
   "outputs": [
    {
     "data": {
      "image/png": "[encoded data removed]",
      "text/plain": [
       "<Figure size 432x288 with 1 Axes>"
      ]
     },
     "metadata": {
      "needs_background": "light"
     },
     "output_type": "display_data"
    }
   ],
   "source": [
    "plt.spy(scipy.sparse.csr_matrix(A))\n",
    "plt.show()"
   ]
  },
  {
   "cell_type": "code",
   "execution_count": 116,
   "id": "1d6da61b-7868-4061-a152-6168a11de266",
   "metadata": {},
   "outputs": [
    {
     "data": {
      "image/png": "[encoded data removed]",
      "text/plain": [
       "<Figure size 432x288 with 1 Axes>"
      ]
     },
     "metadata": {
      "needs_background": "light"
     },
     "output_type": "display_data"
    }
   ],
   "source": [
    "plt.spy(scipy.sparse.csr_matrix(B))\n",
    "plt.show()"
   ]
  },
  {
   "cell_type": "code",
   "execution_count": 117,
   "id": "0852bd08-b179-4562-8d50-9f0f1afb99bc",
   "metadata": {},
   "outputs": [
    {
     "data": {
      "image/png": "[encoded data removed]",
      "text/plain": [
       "<Figure size 432x288 with 1 Axes>"
      ]
     },
     "metadata": {
      "needs_background": "light"
     },
     "output_type": "display_data"
    }
   ],
   "source": [
    "plt.spy(scipy.sparse.csr_matrix(C))\n",
    "plt.show()"
   ]
  },
  {
   "cell_type": "markdown",
   "id": "1b1d7212-39da-45f2-8f20-b72bd4c30dc6",
   "metadata": {
    "tags": []
   },
   "source": [
    "### Mnożenie blokowe macierzy przyjmując wielkość bloków: block_size x block_size."
   ]
  },
  {
   "cell_type": "markdown",
   "id": "4c2a178f-47ee-41f5-aa28-e48cfd19fe20",
   "metadata": {},
   "source": [
    "matrix_mul_fun to jedna z wybranych funkcji mnożenia macierzy zaimplementowanych wyżej"
   ]
  },
  {
   "cell_type": "code",
   "execution_count": 118,
   "id": "aa4dfc55-bdf1-4a99-bc2a-7fd37ddb66ab",
   "metadata": {},
   "outputs": [],
   "source": [
    "def matrix_block_mul(A, B, C, m, n, k, block_size, matrix_mul_fun):\n",
    "    for j in range(0, m, block_size):\n",
    "        j_block = min(m - j, block_size)\n",
    "        for i in range(0, n, block_size):\n",
    "            i_block = min(n - i, block_size)\n",
    "            for p in range(0, k, block_size):\n",
    "                p_block = min(k - p, block_size)\n",
    "                matrix_mul_fun(A[i:i + i_block, p:p + p_block], \n",
    "                               B[p:p + p_block, j:j + j_block], \n",
    "                               C[i:i + i_block, j:j + j_block], \n",
    "                               i_block, j_block, p_block)"
   ]
  },
  {
   "cell_type": "code",
   "execution_count": 119,
   "id": "1f3775ad-8401-473a-81b6-4c9c000d6cdd",
   "metadata": {},
   "outputs": [
    {
     "data": {
      "image/png": "[encoded data removed]",
      "text/plain": [
       "<Figure size 432x288 with 1 Axes>"
      ]
     },
     "metadata": {
      "needs_background": "light"
     },
     "output_type": "display_data"
    }
   ],
   "source": [
    "blocks = []\n",
    "mul_time = []\n",
    "multiplier = 10\n",
    "runs = 100\n",
    "\n",
    "for i in range(1, 11):\n",
    "    C = np.zeros((N_n, N_k))\n",
    "    t0 = time.time()\n",
    "    for j in range(runs):\n",
    "        matrix_block_mul(A, B, C, N, N, N, multiplier*i, mmul_optimal)\n",
    "    blocks.append(multiplier*i)\n",
    "    mul_time.append((time.time() - t0) * 10)\n",
    "    \n",
    "plt.plot(blocks, mul_time)\n",
    "plt.xlabel(\"Rozmiar bloków\")\n",
    "plt.ylabel(\"Czas mnożenia [ms]\")  # TODO: kkafar: sprawdzić, czy jednostka się zgadza\n",
    "plt.show()"
   ]
  },
  {
   "cell_type": "code",
   "execution_count": null,
   "id": "eed305ce",
   "metadata": {},
   "outputs": [],
   "source": []
  }
 ],
 "metadata": {
  "kernelspec": {
   "display_name": "Python 3 (ipykernel)",
   "language": "python",
   "name": "python3"
  },
  "language_info": {
   "codemirror_mode": {
    "name": "ipython",
    "version": 3
   },
   "file_extension": ".py",
   "mimetype": "text/x-python",
   "name": "python",
   "nbconvert_exporter": "python",
   "pygments_lexer": "ipython3",
   "version": "3.9.0"
  }
 },
 "nbformat": 4,
 "nbformat_minor": 5
}
