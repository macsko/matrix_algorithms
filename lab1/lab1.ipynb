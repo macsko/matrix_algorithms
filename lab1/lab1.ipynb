{
 "cells": [
  {
   "cell_type": "markdown",
   "id": "7a3b32d3-00ff-423d-9632-837150c4b4b6",
   "metadata": {},
   "source": [
    "# Algorytmy macierzowe"
   ]
  },
  {
   "cell_type": "markdown",
   "id": "ef155524-b8ba-48d0-b7c9-2205a0b0a270",
   "metadata": {},
   "source": [
    "## Mnożenie macierzy IGA i FEM"
   ]
  },
  {
   "cell_type": "code",
   "execution_count": 1,
   "id": "077cb237-df03-4c6d-9447-211be1fd2de4",
   "metadata": {},
   "outputs": [],
   "source": [
    "import numpy as np\n",
    "import re\n",
    "import matplotlib.pyplot as plt\n",
    "import scipy.sparse\n",
    "import time\n",
    "import os"
   ]
  },
  {
   "cell_type": "markdown",
   "id": "911d6c6f-0581-4d98-ba1a-f941d6590a15",
   "metadata": {
    "tags": []
   },
   "source": [
    "### Konwersja macierzy n x n wygenerowanej w Octave na macierz numpy nq x nq.    \n",
    "Wynikowa macierz, to macierz Octave powtórzona q razy w poziomie i pionie."
   ]
  },
  {
   "cell_type": "code",
   "execution_count": 2,
   "id": "95c1afd6-2c15-4b81-900e-a43105bfd4b3",
   "metadata": {},
   "outputs": [],
   "source": [
    "def input_matrix(octave_matrix, n, m, q=1):\n",
    "    result = np.zeros((n*q, m*q), dtype=np.double)\n",
    "    \n",
    "    for elem in octave_matrix:\n",
    "        m = re.match(r\"\\s*\\((\\d+), (\\d+)\\) -> (\\d+\\.\\d+)\\s*\", elem)\n",
    "        if m is not None: # dla macierzy 256x256 dostaje m = None...\n",
    "            x, y, value = m.groups()\n",
    "        elif len(elem) > 0:\n",
    "            coord, value = elem.strip().split(' -> ')\n",
    "            value = float(value)\n",
    "            x, y = coord.split(',')\n",
    "            x, y = x[1:], y.strip()[:-1]\n",
    "        else:\n",
    "            continue\n",
    "        \n",
    "        for i in range(q):\n",
    "            for j in range(q):\n",
    "                result[i*n + int(x) - 1, j*n + int(y) - 1] = float(value)\n",
    "        \n",
    "    return result"
   ]
  },
  {
   "cell_type": "code",
   "execution_count": 3,
   "id": "65cea712-3d00-489c-8441-dec3288579e8",
   "metadata": {},
   "outputs": [],
   "source": [
    "def load_octave_matrix(filename):\n",
    "    with open(filename, \"r\") as file:\n",
    "        return file.readlines()"
   ]
  },
  {
   "cell_type": "code",
   "execution_count": 4,
   "id": "bc44d1c2",
   "metadata": {},
   "outputs": [],
   "source": [
    "data_dir = \"../output\"\n",
    "\n",
    "def resolve_path(matrix_type, width, height = None):\n",
    "    if height is None: height = width\n",
    "    path = f\"{data_dir}/{matrix_type}-{width}x{height}.txt\"\n",
    "    if os.path.isfile(path): return path\n",
    "    else: raise FileNotFoundError(f\"Matrix file {path} not found\")\n",
    "\n",
    "resolve_matrix = lambda matrix_type, n, m, q = 1: input_matrix(\n",
    "    load_octave_matrix(resolve_path(matrix_type, n, m)), n, m, q\n",
    ")"
   ]
  },
  {
   "cell_type": "code",
   "execution_count": 5,
   "id": "138d5c4d",
   "metadata": {},
   "outputs": [],
   "source": [
    "def timeit(times = 1, loops = 2):\n",
    "    def timed_func(func):\n",
    "        def wrapper(*args):\n",
    "            tries_time = 0\n",
    "            for n_try in range(times):\n",
    "                loops_time = 0\n",
    "                for loop in range(loops):\n",
    "                    t_start = time.time()\n",
    "                    func(*args)\n",
    "                    loops_time += time.time() - t_start\n",
    "                tries_time += loops_time / loops\n",
    "            return tries_time / times\n",
    "        return wrapper\n",
    "    return timed_func"
   ]
  },
  {
   "cell_type": "markdown",
   "id": "f4e07a70-48c7-486e-9764-8ace56ebb3bc",
   "metadata": {},
   "source": [
    "### Sześć algorytmów mnożenia macierzy w zależności od kolejności pętli i, j oraz p.    \n",
    "A - macierz wejściowa n x m    \n",
    "B - macierz wejściowa m x k   \n",
    "C - macierz wynikowa n x k"
   ]
  },
  {
   "cell_type": "code",
   "execution_count": 6,
   "id": "7dce5209-e975-4b98-a5cb-fc6217b939a8",
   "metadata": {},
   "outputs": [],
   "source": [
    "def matrix_mul_ijp(A, B, C, n, m, k):\n",
    "    for i in range(n):\n",
    "        for j in range(m):\n",
    "            for p in range(k):\n",
    "                 C[i,j] += A[i,p]*B[p,j]\n",
    "                    \n",
    "def matrix_mul_ipj(A, B, C, n, m, k):\n",
    "    for i in range(n):\n",
    "        for p in range(k):\n",
    "            for j in range(m):\n",
    "                 C[i,j] += A[i,p]*B[p,j]\n",
    "\n",
    "def matrix_mul_jip(A, B, C, n, m, k):\n",
    "    for j in range(m):\n",
    "        for i in range(n):\n",
    "            for p in range(k):\n",
    "                 C[i,j] += A[i,p]*B[p,j]\n",
    "\n",
    "def matrix_mul_jpi(A, B, C, n, m, k):\n",
    "    for j in range(m):\n",
    "        for p in range(k):\n",
    "            for i in range(n):\n",
    "                 C[i,j] += A[i,p]*B[p,j]\n",
    "\n",
    "def matrix_mul_pij(A, B, C, n, m, k):\n",
    "    for p in range(k):\n",
    "        for i in range(n):\n",
    "            for j in range(m):\n",
    "                 C[i,j] += A[i,p]*B[p,j]\n",
    "\n",
    "def matrix_mul_pji(A, B, C, n, m, k):\n",
    "    for p in range(k):\n",
    "        for j in range(m):\n",
    "            for i in range(n):\n",
    "                 C[i,j] += A[i,p]*B[p,j]\n",
    "\n",
    "mmul = {\n",
    "    \"warmuprun\": matrix_mul_ijp,\n",
    "    \"ijp\": matrix_mul_ijp,\n",
    "    \"ipj\": matrix_mul_ipj,\n",
    "    \"jip\": matrix_mul_jip,\n",
    "    \"jpi\": matrix_mul_jpi,\n",
    "    \"pij\": matrix_mul_pij,\n",
    "    \"pji\": matrix_mul_pji\n",
    "}"
   ]
  },
  {
   "cell_type": "markdown",
   "id": "49595a02",
   "metadata": {},
   "source": [
    "### Macierze wejściowe"
   ]
  },
  {
   "cell_type": "code",
   "execution_count": 7,
   "id": "e659057b",
   "metadata": {},
   "outputs": [],
   "source": [
    "SIZE = 256\n",
    "n = SIZE   # liczba wierszy macierzy A\n",
    "m = SIZE   # liczba kolumn macierzy A / liczba wierszy macierzy B\n",
    "k = SIZE   # liczba kolumn macierzy B\n",
    "q = 2      # czynnik skalujący macierze\n",
    "N_n = n * q\n",
    "N_m = m * q\n",
    "N_k = k * q"
   ]
  },
  {
   "cell_type": "code",
   "execution_count": 8,
   "id": "2a1a2816",
   "metadata": {},
   "outputs": [
    {
     "name": "stdout",
     "output_type": "stream",
     "text": [
      "Wymiary macierzy A: (512, 512)\n",
      "Wymiary macierzy B: (512, 512)\n"
     ]
    }
   ],
   "source": [
    "A = resolve_matrix(\"iga\", n, m, q)\n",
    "B = resolve_matrix(\"fem\", m, k, q)\n",
    "print(\"Wymiary macierzy A:\", A.shape)\n",
    "print(\"Wymiary macierzy B:\", B.shape)"
   ]
  },
  {
   "cell_type": "markdown",
   "id": "7505f25f-64ee-4ed1-9547-36aa4cb31a30",
   "metadata": {},
   "source": [
    "### Sprawdzanie najszybszego algorytmu"
   ]
  },
  {
   "cell_type": "code",
   "execution_count": 14,
   "id": "ab76c8da-03aa-44ef-bdd4-cbae46c9a1ec",
   "metadata": {},
   "outputs": [
    {
     "name": "stdout",
     "output_type": "stream",
     "text": [
      "warmuprun:\n",
      "1min 26s ± 0 ns per loop (mean ± std. dev. of 1 run, 1 loop each)\n",
      "ijp:\n",
      "1min 24s ± 0 ns per loop (mean ± std. dev. of 1 run, 1 loop each)\n",
      "ipj:\n",
      "1min 23s ± 0 ns per loop (mean ± std. dev. of 1 run, 1 loop each)\n",
      "jip:\n",
      "1min 23s ± 0 ns per loop (mean ± std. dev. of 1 run, 1 loop each)\n",
      "jpi:\n",
      "1min 24s ± 0 ns per loop (mean ± std. dev. of 1 run, 1 loop each)\n",
      "pij:\n",
      "1min 23s ± 0 ns per loop (mean ± std. dev. of 1 run, 1 loop each)\n",
      "pji:\n",
      "1min 25s ± 0 ns per loop (mean ± std. dev. of 1 run, 1 loop each)\n",
      "\n",
      "Najszybsza konfiguracja: pij\n"
     ]
    }
   ],
   "source": [
    "stats = {}\n",
    "\n",
    "min_loop_time = None\n",
    "min_mul_type = \"ijp\"\n",
    "mmul_optimal = mmul[min_mul_type]\n",
    "\n",
    "for mul_type, mul_fun in mmul.items():\n",
    "    print(f\"{mul_type}:\")\n",
    "    C = np.zeros((N_n, N_k))\n",
    "    loop_time = %timeit -n 1 -r 1 -o mul_fun(A, B, C, N_n, N_m, N_k)\n",
    "    if mul_type == \"warmuprun\": continue\n",
    "    stats[mul_type] = loop_time.average\n",
    "    if min_loop_time is None or min_loop_time > loop_time.average:\n",
    "        min_loop_time = loop_time.average\n",
    "        min_mul_type = mul_type\n",
    "        mmul_optimal = mul_fun\n",
    "\n",
    "print(f\"\\nNajszybsza konfiguracja: {min_mul_type}\")"
   ]
  },
  {
   "cell_type": "code",
   "execution_count": 15,
   "id": "61c3ceda",
   "metadata": {},
   "outputs": [
    {
     "data": {
      "text/markdown": [
       "\n",
       "| Kolejność pętli | Czas [s] |\n",
       "|:---------------:|:--------:|\n",
       "|ijp|84.3998|\n",
       "|ipj|83.4422|\n",
       "|jip|83.9876|\n",
       "|jpi|84.3533|\n",
       "|pij|83.032|\n",
       "|pji|85.1829|\n"
      ],
      "text/plain": [
       "<IPython.core.display.Markdown object>"
      ]
     },
     "execution_count": 15,
     "metadata": {},
     "output_type": "execute_result"
    }
   ],
   "source": [
    "from IPython.display import Markdown as md\n",
    "table = \"\"\"\n",
    "| Kolejność pętli | Czas [s] |\n",
    "|:---------------:|:--------:|\n",
    "\"\"\"\n",
    "for loop_order, loop_time in stats.items():\n",
    "    table += f\"|{loop_order}|{loop_time:>.6}|\\n\"\n",
    "\n",
    "md(table)"
   ]
  },
  {
   "cell_type": "markdown",
   "id": "38c2e6d1",
   "metadata": {},
   "source": [
    "### Arbitralny wybór optymalnego algorytmu \n",
    "\n",
    "Jeżeli ma zostać wykorzystany algorytm wyznaczony obliczeniowo (w komórce powyżej), nie wykonywać komórki poniżej."
   ]
  },
  {
   "cell_type": "code",
   "execution_count": 16,
   "id": "1cf62bb3",
   "metadata": {},
   "outputs": [],
   "source": [
    "mmul_optimal = mmul[\"ijp\"]"
   ]
  },
  {
   "cell_type": "markdown",
   "id": "3aa5167e-b289-4675-ad1a-389d8271cf30",
   "metadata": {},
   "source": [
    "### Sprawdzanie niezerowych miejsc macierzy A, B i C"
   ]
  },
  {
   "cell_type": "code",
   "execution_count": 17,
   "id": "34f39a58-2478-4a62-a6db-5d0b725eda9d",
   "metadata": {},
   "outputs": [
    {
     "name": "stdout",
     "output_type": "stream",
     "text": [
      "1min 28s ± 0 ns per loop (mean ± std. dev. of 1 run, 1 loop each)\n"
     ]
    }
   ],
   "source": [
    "C = np.zeros((N_n, N_k))\n",
    "%timeit -n 1 -r 1 mmul_optimal(A, B, C, N_n, N_m, N_k)"
   ]
  },
  {
   "cell_type": "code",
   "execution_count": 18,
   "id": "26248e91-3fd3-4fd5-9f57-05bd0a7f75d1",
   "metadata": {},
   "outputs": [
    {
     "data": {
      "image/png": "[encoded data removed]",
      "text/plain": [
       "<Figure size 432x288 with 1 Axes>"
      ]
     },
     "metadata": {
      "needs_background": "light"
     },
     "output_type": "display_data"
    }
   ],
   "source": [
    "plt.spy(scipy.sparse.csr_matrix(A))\n",
    "plt.show()"
   ]
  },
  {
   "cell_type": "code",
   "execution_count": 19,
   "id": "1d6da61b-7868-4061-a152-6168a11de266",
   "metadata": {},
   "outputs": [
    {
     "data": {
      "image/png": "[encoded data removed]",
      "text/plain": [
       "<Figure size 432x288 with 1 Axes>"
      ]
     },
     "metadata": {
      "needs_background": "light"
     },
     "output_type": "display_data"
    }
   ],
   "source": [
    "plt.spy(scipy.sparse.csr_matrix(B))\n",
    "plt.show()"
   ]
  },
  {
   "cell_type": "code",
   "execution_count": 20,
   "id": "0852bd08-b179-4562-8d50-9f0f1afb99bc",
   "metadata": {},
   "outputs": [
    {
     "data": {
      "image/png": "[encoded data removed]",
      "text/plain": [
       "<Figure size 432x288 with 1 Axes>"
      ]
     },
     "metadata": {
      "needs_background": "light"
     },
     "output_type": "display_data"
    }
   ],
   "source": [
    "plt.spy(scipy.sparse.csr_matrix(C))\n",
    "plt.show()"
   ]
  },
  {
   "cell_type": "markdown",
   "id": "1b1d7212-39da-45f2-8f20-b72bd4c30dc6",
   "metadata": {
    "tags": []
   },
   "source": [
    "### Mnożenie blokowe macierzy przyjmując wielkość bloków: block_size x block_size."
   ]
  },
  {
   "cell_type": "markdown",
   "id": "4c2a178f-47ee-41f5-aa28-e48cfd19fe20",
   "metadata": {},
   "source": [
    "matrix_mul_fun to jedna z wybranych funkcji mnożenia macierzy zaimplementowanych wyżej"
   ]
  },
  {
   "cell_type": "code",
   "execution_count": 21,
   "id": "aa4dfc55-bdf1-4a99-bc2a-7fd37ddb66ab",
   "metadata": {},
   "outputs": [],
   "source": [
    "def matrix_block_mul(A, B, C, n, m, k, block_size, matrix_mul_fun):\n",
    "    for j in range(0, m, block_size):\n",
    "        j_block = min(m - j, block_size)\n",
    "        for i in range(0, n, block_size):\n",
    "            i_block = min(n - i, block_size)\n",
    "            for p in range(0, k, block_size):\n",
    "                p_block = min(k - p, block_size)\n",
    "                matrix_mul_fun(A[i:i + i_block, p:p + p_block], \n",
    "                               B[p:p + p_block, j:j + j_block], \n",
    "                               C[i:i + i_block, j:j + j_block], \n",
    "                               i_block, j_block, p_block)"
   ]
  },
  {
   "cell_type": "code",
   "execution_count": 22,
   "id": "1f3775ad-8401-473a-81b6-4c9c000d6cdd",
   "metadata": {},
   "outputs": [
    {
     "name": "stdout",
     "output_type": "stream",
     "text": [
      "[4, 8, 16, 32, 64, 128, 256, 512]\n"
     ]
    },
    {
     "data": {
      "image/png": "[encoded data removed]",
      "text/plain": [
       "<Figure size 432x288 with 1 Axes>"
      ]
     },
     "metadata": {
      "needs_background": "light"
     },
     "output_type": "display_data"
    }
   ],
   "source": [
    "from math import log\n",
    "block_sizes = [2**i for i in range(2, int(log(N_n * q, 2)))]\n",
    "print(block_sizes)\n",
    "mul_time = []\n",
    "runs = 1\n",
    "\n",
    "for block_size in block_sizes:\n",
    "    C = np.zeros((N_n, N_k))\n",
    "    t0 = time.time()\n",
    "    for j in range(runs):\n",
    "        matrix_block_mul(A, B, C, N_n, N_m, N_k, block_size, mmul_optimal)\n",
    "    mul_time.append((time.time() - t0) / runs)\n",
    "    \n",
    "plt.plot(block_sizes, mul_time, linestyle='--')\n",
    "plt.scatter(block_sizes, mul_time)\n",
    "plt.xlabel(\"Rozmiar bloków\")\n",
    "plt.ylabel(\"Czas mnożenia [s]\")\n",
    "plt.show()"
   ]
  },
  {
   "cell_type": "markdown",
   "id": "7afd00a0",
   "metadata": {},
   "source": [
    "### Liczba operacji zmienno przecinkowych w standardowym algorytmie mnożenia macierzy"
   ]
  },
  {
   "cell_type": "markdown",
   "id": "18854788",
   "metadata": {},
   "source": [
    "Niech $A = [a_{ij}]_{n x m}$, $B = [b_{ij}]_{mxk}$, $C = AB = [c_{ij}]_{nxk}$.\n",
    "\n",
    "$\\forall_{i \\in [n], j \\in [k]}\\, c_{ij} = \\sum_{p=1}^{m} a_{ip}b_{pj}$\n",
    "\n",
    "W powyższej sumie, dla ustalonych $i$, $j$ mamy $m$ mnożeń oraz $m-1$ dodawań -> $2m - 1$ operacji zmienno przecinkowych.\n",
    "\n",
    "Zatem ogólny koszt algorytmu to $n * k * (2m - 1) = 2nmk - nk$ operacji zmienno-przecinkowych."
   ]
  },
  {
   "cell_type": "markdown",
   "id": "cf51a287",
   "metadata": {},
   "source": [
    "### Liczba operacji zmienno przecinkowych w algorytmie blokowego mnożenia macierzy"
   ]
  },
  {
   "cell_type": "markdown",
   "id": "bb2c5df0",
   "metadata": {},
   "source": [
    "Niech $A = [a_{ij}]_{n x m} = [A_{ij}]_{NxM}$, $B = [b_{ij}]_{mxk} = [B_{ij}]_{MxK}$, $C = AB = [c_{ij}]_{nxk} = [C_{ij}]_{NxK}$, gdzie przez $A_{ij}$, $B_{ij}$, $C_{ij}$ rozumiemy odpowiednie macierze blokowe rozmiarów, odpowiednio $\\frac{n}{N}x\\frac{m}{M}$, $\\frac{m}{M}x\\frac{k}{K}$, $\\frac{n}{N}x\\frac{k}{K}$.\n",
    "\n",
    "$\\forall_{i \\in [N], j \\in [K]}\\, C_{ij} = \\sum_{p=1}^{M} A_{ip}B_{pj}$\n",
    "\n",
    "Dla ustalonych $i$, $j$ taka suma to $M$ standardowych mnożeń macierzy, z których każde kosztuje $2 * \\frac{nkm}{NKM} - \\frac{nk}{NK}$ flop oraz $M-1$ dodawań macierzy, z których każde kosztuje $\\frac{nk}{NK}$ flop.\n",
    "\n",
    "Ostatecznie, po rachunkach, otrzymujemy: $2nmk - nk$ flop -- tyle samo co uprzednio.\n",
    "\n",
    "Zatem w przypadku naszych macierzy, mnożenie ich będzie wymagać następującą liczbę operacji zmiennoprzecinkowych:"
   ]
  },
  {
   "cell_type": "code",
   "execution_count": 23,
   "id": "e100f159",
   "metadata": {},
   "outputs": [
    {
     "name": "stdout",
     "output_type": "stream",
     "text": [
      "268173312\n"
     ]
    }
   ],
   "source": [
    "n, m = A.shape\n",
    "_, k = B.shape\n",
    "\n",
    "print(2 * n * m * k - n * k)"
   ]
  }
 ],
 "metadata": {
  "kernelspec": {
   "display_name": "Python 3 (ipykernel)",
   "language": "python",
   "name": "python3"
  },
  "language_info": {
   "codemirror_mode": {
    "name": "ipython",
    "version": 3
   },
   "file_extension": ".py",
   "mimetype": "text/x-python",
   "name": "python",
   "nbconvert_exporter": "python",
   "pygments_lexer": "ipython3",
   "version": "3.9.0"
  }
 },
 "nbformat": 4,
 "nbformat_minor": 5
}
