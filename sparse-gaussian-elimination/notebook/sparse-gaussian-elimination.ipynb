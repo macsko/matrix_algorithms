{
 "cells": [
  {
   "cell_type": "markdown",
   "id": "4cb10e85",
   "metadata": {},
   "source": [
    "# Wierszowa, rzadka eliminacja Gaussa w formacie CSR\n",
    "\n",
    "**Maciej Skoczeń**, **Kacper Kafara**\n",
    "\n",
    "grupa wtorek (A) 17:50"
   ]
  },
  {
   "cell_type": "markdown",
   "id": "ddd5a134",
   "metadata": {},
   "source": [
    "# Środowisko obliczeniowe\n",
    "\n",
    "Procesor: Intel i7-9750H @ 2,6 GHz; 6 rdzeni fizycznych (12 log.)\\\n",
    "Pamięć RAM: 16 GB"
   ]
  },
  {
   "cell_type": "code",
   "execution_count": 1,
   "id": "7cac8c02",
   "metadata": {},
   "outputs": [],
   "source": [
    "import numpy as np\n",
    "import matplotlib.pyplot as plt\n",
    "import os\n",
    "import re\n",
    "import subprocess\n",
    "import matplotlib.pyplot as plt\n",
    "import platform\n",
    "\n",
    "from timeit import default_timer\n",
    "from math import sqrt\n",
    "\n",
    "Array = np.ndarray"
   ]
  },
  {
   "cell_type": "markdown",
   "id": "94cd98b1",
   "metadata": {},
   "source": [
    "## Funkcje pomocnicze"
   ]
  },
  {
   "cell_type": "code",
   "execution_count": 2,
   "id": "596ed8f2",
   "metadata": {},
   "outputs": [],
   "source": [
    "class Timer(object):\n",
    "    def __init__(self):\n",
    "        self._start_time = None\n",
    "        self._stop_time = None\n",
    "\n",
    "    def start(self):\n",
    "        self._start_time = default_timer()\n",
    "\n",
    "    def stop(self):\n",
    "        self._stop_time = default_timer()\n",
    "\n",
    "    @property\n",
    "    def elapsed(self, val = None):\n",
    "        if self._stop_time is None or self._start_time is None:\n",
    "            return None\n",
    "        elapsed = self._stop_time - self._start_time\n",
    "        return elapsed\n",
    "    \n",
    "\n",
    "# mock impl\n",
    "def is_int(value) -> bool:\n",
    "    as_int = int(value)\n",
    "    return value == as_int"
   ]
  },
  {
   "cell_type": "markdown",
   "id": "729e7ad5",
   "metadata": {},
   "source": [
    "###  Wczytywanie macierzy\n",
    "\n",
    "wygenerowanej za pomocą dostarczonego skryptu `mass_matrix`, przepisanego do C++."
   ]
  },
  {
   "cell_type": "code",
   "execution_count": 3,
   "id": "5dfd94bb",
   "metadata": {},
   "outputs": [],
   "source": [
    "def input_matrix(octave_matrix, n, m, q=1):\n",
    "    result = np.zeros((n*q, m*q), dtype=np.double)\n",
    "    \n",
    "    for elem in octave_matrix:\n",
    "        m = re.match(r\"\\s*\\((\\d+),\\s*(\\d+)\\)\\s*->\\s*(\\d+\\.\\d+)\\s*\", elem)\n",
    "        if m is not None:\n",
    "            x, y, value = m.groups()\n",
    "        elif len(elem) > 0:\n",
    "            coord, value = elem.strip().split(' -> ')\n",
    "            value = float(value)\n",
    "            x, y = coord.split(',')\n",
    "            x, y = x[1:], y.strip()[:-1]\n",
    "        else:\n",
    "            continue\n",
    "        \n",
    "        for i in range(q):\n",
    "            for j in range(q):\n",
    "                result[i*n + int(x) - 1, j*n + int(y) - 1] = float(value)\n",
    "        \n",
    "    return result"
   ]
  },
  {
   "cell_type": "code",
   "execution_count": 4,
   "id": "9ca96a8a",
   "metadata": {},
   "outputs": [],
   "source": [
    "def load_octave_matrix(filename):\n",
    "    with open(filename, \"r\") as file:\n",
    "        return file.readlines()"
   ]
  },
  {
   "cell_type": "code",
   "execution_count": 5,
   "id": "2b543388",
   "metadata": {},
   "outputs": [],
   "source": [
    "data_dir = \"../../output\"\n",
    "\n",
    "def resolve_path(matrix_type, width, height = None, generate = False):\n",
    "    if height is None: height = width\n",
    "    path = f\"{data_dir}/{matrix_type}-{width}x{height}.txt\"\n",
    "    if os.path.isfile(path): return path\n",
    "    elif not generate:\n",
    "        raise FileNotFoundError(f\"Matrix file {path} was not found in data dir.\")\n",
    "    else: \n",
    "        if platform.system() == \"Windows\":\n",
    "            raise FileNotFoundError(f\"Matrix file {path} was not found in data dir.\\\n",
    "                Automated generation is not supported on your platform: {platform.system()}.\")\n",
    "\n",
    "        if width != height:\n",
    "            raise ValueError(\"Can only generate square matrix\")\n",
    "            \n",
    "        generate_matrix(matrix_type, width)\n",
    "        \n",
    "        if os.path.isfile(path): return path\n",
    "        else:\n",
    "            print(path)\n",
    "            raise RuntimeError(\"Failed to generate matrix\")"
   ]
  },
  {
   "cell_type": "code",
   "execution_count": 6,
   "id": "c17399d4",
   "metadata": {},
   "outputs": [],
   "source": [
    "def resolve_matrix(matrix_type, n, m, q = 1, generate = False):\n",
    "    return input_matrix(\n",
    "        load_octave_matrix(resolve_path(matrix_type, n, m, generate = generate)), n, m, q)"
   ]
  },
  {
   "cell_type": "code",
   "execution_count": 7,
   "id": "4354339b",
   "metadata": {},
   "outputs": [],
   "source": [
    "def generate_matrix(matrix_type, rank):\n",
    "    if matrix_type not in {'iga', 'fem'}:\n",
    "        raise ValueError(f\"Invalid matrix type: {matrix_type}\")\n",
    "        \n",
    "    if rank < 16 or not is_int(sqrt(rank)):\n",
    "        raise ValueError(f\"Invalid matrix rank: {rank}. Must be >= 16 and sqrt(rank) must be of type integer.\")\n",
    "        \n",
    "    rank_root = int(sqrt(rank))\n",
    "    \n",
    "    if matrix_type == 'fem':\n",
    "        for p in range(2, 5):\n",
    "            double_nxx = rank_root - p + 1\n",
    "            if double_nxx % 2 == 0 and double_nxx // 2 >= 2:\n",
    "                nxx = double_nxx // 2\n",
    "                pxx = p\n",
    "                break\n",
    "        else:\n",
    "            raise RuntimeError(f\"Failed to determine nxx, pxx for rank: {rank}\")\n",
    "    else:\n",
    "        for p in range(2, 5):\n",
    "            nxx = rank_root - p\n",
    "            if nxx >= 2:\n",
    "                pxx = p\n",
    "                break\n",
    "        else:\n",
    "            raise RuntimeError(f\"Failed to determine nxx, pxx for rank: {rank}\")\n",
    "    \n",
    "    cwd = os.getcwd()\n",
    "    os.chdir(os.getenv('SCRIPTS_DIR'))\n",
    "    !./generate-matrix.sh cpp {matrix_type} {nxx} {pxx} 0\n",
    "    os.chdir(cwd)"
   ]
  },
  {
   "cell_type": "markdown",
   "id": "5ddaa767",
   "metadata": {},
   "source": [
    "## Generowanie macierzy"
   ]
  },
  {
   "cell_type": "code",
   "execution_count": 8,
   "id": "cc3d7bce",
   "metadata": {},
   "outputs": [],
   "source": [
    "A_n = 1024 # liczba wierszy i kolumn macierzy A\n",
    "A = resolve_matrix('iga', A_n, A_n, generate=True)\n",
    "\n",
    "B_n = 1600 # liczba wierszy i kolumn macierzy B\n",
    "B = resolve_matrix('fem', B_n, B_n, generate=True)"
   ]
  },
  {
   "cell_type": "code",
   "execution_count": 9,
   "id": "6add56a3",
   "metadata": {},
   "outputs": [
    {
     "data": {
      "image/png": "[encoded data removed]",
      "text/plain": [
       "<Figure size 1152x432 with 2 Axes>"
      ]
     },
     "metadata": {
      "needs_background": "light"
     },
     "output_type": "display_data"
    }
   ],
   "source": [
    "_, (ax_A, ax_B) = plt.subplots(nrows=1, ncols=2, figsize=(16,6))\n",
    "ax_A.set_title('Niezerowe wartości w macierzy A')\n",
    "ax_A.spy(A)\n",
    "ax_B.set_title('Niezerowe wartości w macierzy B')\n",
    "ax_B.spy(B)\n",
    "plt.show()"
   ]
  },
  {
   "cell_type": "markdown",
   "id": "3a27c0a3",
   "metadata": {},
   "source": [
    "## Implementacja formatu CSR"
   ]
  },
  {
   "cell_type": "code",
   "execution_count": 10,
   "id": "96bb7a09",
   "metadata": {},
   "outputs": [],
   "source": [
    "class CSRMatrix:\n",
    "    def __init__(self, matrix: Array = None):\n",
    "        self.non_zero_values_count = 0\n",
    "        self.N = 0 # wysokość/szerokość macierzy\n",
    "        self.column_indices = []\n",
    "        self.values = []\n",
    "        self.row_beginning_indices = []\n",
    "        if matrix is not None:\n",
    "            self.from_dense(matrix)\n",
    "    \n",
    "    def from_dense(self, matrix_dense: Array):\n",
    "        self.N = matrix_dense.shape[0]\n",
    "        for i in range(self.N): # wiersze\n",
    "            self.row_beginning_indices.append(self.non_zero_values_count) # nowy wiersz\n",
    "            for j in range(self.N): # kolumny\n",
    "                if matrix_dense[i,j] != 0:\n",
    "                    self.non_zero_values_count += 1\n",
    "                    self.column_indices.append(j)\n",
    "                    self.values.append(matrix_dense[i,j])\n",
    "                    \n",
    "        self.row_beginning_indices.append(self.non_zero_values_count)\n",
    "            \n",
    "    def cleanup(self):\n",
    "        \"\"\"Zakładamy, że w każdym wierszu istnieje niezerowa wartość\"\"\"\n",
    "        i = 0\n",
    "        last_modified_row = 0\n",
    "        while i < self.non_zero_values_count:\n",
    "            value = self.values[i]\n",
    "            if abs(value) < 1e-9:\n",
    "                self.values.pop(i)\n",
    "                self.column_indices.pop(i)\n",
    "                \n",
    "                # aktualizacja wskaźników na wiersze\n",
    "                \n",
    "                # 1. znajdujemy wiersz\n",
    "                for j in range(last_modified_row, self.N):\n",
    "                    if i >= self.row_beginning_indices[j] and i < self.row_beginning_indices[j + 1]:\n",
    "                        row_no = j\n",
    "                        last_modified_row = j\n",
    "                        break\n",
    "                # 2. aktualizujemy indeksy początków wszystkich kolejnych wierszy\n",
    "                for j in range(row_no + 1, self.N):\n",
    "                    self.row_beginning_indices[j] -= 1\n",
    "                self.non_zero_values_count -= 1\n",
    "            else:\n",
    "                i += 1\n",
    "            \n",
    "                "
   ]
  },
  {
   "cell_type": "markdown",
   "id": "9b1ce1b0",
   "metadata": {},
   "source": [
    "## Eliminacja Gaussa dla macierzy w formacie CSR"
   ]
  },
  {
   "cell_type": "code",
   "execution_count": 11,
   "id": "39ea56e3",
   "metadata": {},
   "outputs": [],
   "source": [
    "def sparse_gaussian_elimination(M: CSRMatrix, timer: Timer = None) -> None:\n",
    "    N = M.N\n",
    "    \n",
    "    if timer: timer.start()\n",
    "        \n",
    "\n",
    "    for k in range(N): # iterowanie po przekątnej macierzy\n",
    "        # znajdujemy wyraz na przekątnej\n",
    "        k_row_start = M.row_beginning_indices[k]\n",
    "        k1_row_start = M.row_beginning_indices[k + 1]\n",
    "        \n",
    "        # zakładam, że wartość na przekątnej jest niezerowa\n",
    "        # wtedy wartość na przekątnej jest pierwszą niezerową\n",
    "        # wartością w wierszu\n",
    "        M_kk = M.values[k_row_start]\n",
    "        for i in range(k_row_start, k1_row_start):\n",
    "            M.values[i] /= M_kk\n",
    "            \n",
    "        # iterujemy po wierszach poniżej przekątnej\n",
    "        for j in range(k + 1, N):\n",
    "            first_non_zero_col_ind_j = M.column_indices[M.row_beginning_indices[j]]\n",
    "            \n",
    "            if first_non_zero_col_ind_j != k: continue # <=> M_jk == 0\n",
    "                \n",
    "            j_row_start = M.row_beginning_indices[j]\n",
    "            j1_row_start = M.row_beginning_indices[j + 1]\n",
    "                \n",
    "            M_jk = M.values[j_row_start]\n",
    "            \n",
    "            k_iter = k_row_start\n",
    "            j_iter = j_row_start\n",
    "            while k_iter < k1_row_start and j_iter < j1_row_start:\n",
    "                k_col = M.column_indices[k_iter]\n",
    "                j_col = M.column_indices[j_iter]\n",
    "                \n",
    "                if k_col == j_col: # jeżeli ta sama kolumna, to aktualizujemy wartość\n",
    "                    M.values[j_iter] -= M_jk * M.values[k_iter]\n",
    "                    k_iter += 1\n",
    "                    j_iter += 1\n",
    "                elif k_col < j_col: # potrzebujemy wstawić wartość przed j_col\n",
    "                    M.non_zero_values_count += 1\n",
    "                    M.values.insert(j_iter, -(M_jk * M.values[k_iter]))\n",
    "                    M.column_indices.insert(j_iter, M.column_indices[k_iter])\n",
    "                    k_iter += 1\n",
    "                    for row_index in range(j + 1, N):\n",
    "                        M.row_beginning_indices[row_index] += \n",
    "                else: # jeżeli indeks góry jest > niż dołu, to wartość zostaje niezmieniona\n",
    "                    j_iter += 1\n",
    "            # usunięcie wszystkich zer z macierzy\n",
    "            M.cleanup()\n",
    "        \n",
    "                \n",
    "    if timer: timer.stop()"
   ]
  },
  {
   "cell_type": "markdown",
   "id": "adcf89aa",
   "metadata": {},
   "source": [
    "## Eliminacja Gaussa dla macierzy gęstej"
   ]
  },
  {
   "cell_type": "code",
   "execution_count": 12,
   "id": "b46e540c",
   "metadata": {},
   "outputs": [],
   "source": [
    "def gaussian_elimination(\n",
    "    A: Array,\n",
    "    in_place: bool = False,\n",
    "    timer: Timer = None\n",
    ") -> Array:\n",
    "    \n",
    "    if not in_place: A = A.copy()\n",
    "    \n",
    "    if timer is not None:\n",
    "        timer.start()\n",
    "\n",
    "    n, _ = A.shape\n",
    "    for i in range(n):\n",
    "        A_i_i = A[i, i]\n",
    "        for j in range(i + 1, n):\n",
    "            factor = A[j, i] / A_i_i\n",
    "            A[j, i] = 0\n",
    "            for k in range(i + 1, n):\n",
    "                A[j, k] -= factor * A[i, k]\n",
    "                \n",
    "    if timer is not None: timer.stop()\n",
    "    if not in_place: return A"
   ]
  },
  {
   "cell_type": "markdown",
   "id": "596e0441",
   "metadata": {},
   "source": [
    "## Porównanie czasów wykonania eliminacji dla macierzy A (1024x1024)"
   ]
  },
  {
   "cell_type": "code",
   "execution_count": 13,
   "id": "d4eac23d",
   "metadata": {},
   "outputs": [
    {
     "name": "stdout",
     "output_type": "stream",
     "text": [
      "Średni czas wykonania dla eliminacji \"rzadkiej\": 9.54923s\n",
      "Średni czas wykonania dla eliminacji \"gęstej\": 105.52044s\n"
     ]
    }
   ],
   "source": [
    "n_tests = 1\n",
    "\n",
    "sparse_exec_time_A = 0\n",
    "dense_exec_time_A = 0\n",
    "\n",
    "timer = Timer()\n",
    "\n",
    "for test_no in range(n_tests):\n",
    "    A_sparse = CSRMatrix(A)\n",
    "    sparse_gaussian_elimination(A_sparse, timer)\n",
    "    sparse_exec_time_A += timer.elapsed\n",
    "    \n",
    "sparse_exec_time_A /= n_tests\n",
    "print(f'Średni czas wykonania dla eliminacji \"rzadkiej\": {sparse_exec_time_A:.5f}s')\n",
    "\n",
    "for test_no in range(n_tests):\n",
    "    gaussian_elimination(A, in_place=False, timer=timer)\n",
    "    dense_exec_time_A += timer.elapsed\n",
    "\n",
    "dense_exec_time_A /= n_tests\n",
    "print(f'Średni czas wykonania dla eliminacji \"gęstej\": {dense_exec_time_A:.5f}s')"
   ]
  },
  {
   "cell_type": "markdown",
   "id": "65b35df0",
   "metadata": {},
   "source": [
    "## Porównanie czasów wykonania eliminacji dla macierzy B (1600x1600)"
   ]
  },
  {
   "cell_type": "code",
   "execution_count": null,
   "id": "0b818211",
   "metadata": {},
   "outputs": [
    {
     "name": "stdout",
     "output_type": "stream",
     "text": [
      "Średni czas wykonania dla eliminacji \"rzadkiej\": 28.58339s\n",
      "0\n"
     ]
    }
   ],
   "source": [
    "n_tests = 1\n",
    "\n",
    "sparse_exec_time_B = 0\n",
    "dense_exec_time_B = 0\n",
    "\n",
    "for test_no in range(n_tests):\n",
    "    B_sparse = CSRMatrix(B)\n",
    "    sparse_gaussian_elimination(B_sparse, timer)\n",
    "    sparse_exec_time_B += timer.elapsed\n",
    "    \n",
    "sparse_exec_time_B /= n_tests\n",
    "print(f'Średni czas wykonania dla eliminacji \"rzadkiej\": {sparse_exec_time_B:.5f}s')\n",
    "\n",
    "for test_no in range(n_tests):\n",
    "    gaussian_elimination(B, in_place=False, timer=timer)\n",
    "    dense_exec_time_B += timer.elapsed\n",
    "    \n",
    "dense_exec_time_B /= n_tests\n",
    "print(f'Średni czas wykonania dla eliminacji \"gęstej\": {dense_exec_time_B:.5f}s')"
   ]
  },
  {
   "cell_type": "code",
   "execution_count": null,
   "id": "e3bf01d0",
   "metadata": {},
   "outputs": [],
   "source": []
  }
 ],
 "metadata": {
  "kernelspec": {
   "display_name": "Python 3 (ipykernel)",
   "language": "python",
   "name": "python3"
  },
  "language_info": {
   "codemirror_mode": {
    "name": "ipython",
    "version": 3
   },
   "file_extension": ".py",
   "mimetype": "text/x-python",
   "name": "python",
   "nbconvert_exporter": "python",
   "pygments_lexer": "ipython3",
   "version": "3.9.0"
  }
 },
 "nbformat": 4,
 "nbformat_minor": 5
}
