{
 "cells": [
  {
   "cell_type": "markdown",
   "id": "fe3cf5ca",
   "metadata": {},
   "source": [
    "# Wierszowa, rzadka eliminacja Gaussa w formacie CSR\n",
    "\n",
    "**Maciej Skoczeń**, **Kacper Kafara**\n",
    "\n",
    "grupa wtorek (A) 17:50"
   ]
  },
  {
   "cell_type": "markdown",
   "id": "d5caf51e",
   "metadata": {},
   "source": [
    "# Środowisko obliczeniowe\n",
    "\n",
    "Procesor: Intel i7-9750H @ 2,6 GHz; 6 rdzeni fizycznych (12 log.)\\\n",
    "Pamięć RAM: 16 GB"
   ]
  },
  {
   "cell_type": "code",
   "execution_count": 1,
   "id": "199c8df5",
   "metadata": {},
   "outputs": [],
   "source": [
    "import numpy as np\n",
    "import matplotlib.pyplot as plt\n",
    "import os\n",
    "import re\n",
    "import subprocess\n",
    "import matplotlib.pyplot as plt\n",
    "import platform\n",
    "\n",
    "from timeit import default_timer\n",
    "from math import sqrt\n",
    "\n",
    "Array = np.ndarray"
   ]
  },
  {
   "cell_type": "markdown",
   "id": "a5efe4bd",
   "metadata": {},
   "source": [
    "## Funkcje pomocnicze"
   ]
  },
  {
   "cell_type": "code",
   "execution_count": 2,
   "id": "bc1be386",
   "metadata": {},
   "outputs": [],
   "source": [
    "class Timer(object):\n",
    "    def __init__(self):\n",
    "        self._start_time = None\n",
    "        self._stop_time = None\n",
    "\n",
    "    def start(self):\n",
    "        self._start_time = default_timer()\n",
    "\n",
    "    def stop(self):\n",
    "        self._stop_time = default_timer()\n",
    "\n",
    "    @property\n",
    "    def elapsed(self, val = None):\n",
    "        if self._stop_time is None or self._start_time is None:\n",
    "            return None\n",
    "        elapsed = self._stop_time - self._start_time\n",
    "        return elapsed\n",
    "    \n",
    "\n",
    "# mock impl\n",
    "def is_int(value) -> bool:\n",
    "    as_int = int(value)\n",
    "    return value == as_int"
   ]
  },
  {
   "cell_type": "markdown",
   "id": "35690530",
   "metadata": {},
   "source": [
    "###  Wczytywanie macierzy\n",
    "\n",
    "wygenerowanej za pomocą dostarczonego skryptu `mass_matrix`, przepisanego do C++."
   ]
  },
  {
   "cell_type": "code",
   "execution_count": 3,
   "id": "e01c0ff8",
   "metadata": {},
   "outputs": [],
   "source": [
    "def input_matrix(octave_matrix, n, m, q=1):\n",
    "    result = np.zeros((n*q, m*q), dtype=np.double)\n",
    "    \n",
    "    for elem in octave_matrix:\n",
    "        m = re.match(r\"\\s*\\((\\d+),\\s*(\\d+)\\)\\s*->\\s*(\\d+\\.\\d+)\\s*\", elem)\n",
    "        if m is not None:\n",
    "            x, y, value = m.groups()\n",
    "        elif len(elem) > 0:\n",
    "            coord, value = elem.strip().split(' -> ')\n",
    "            value = float(value)\n",
    "            x, y = coord.split(',')\n",
    "            x, y = x[1:], y.strip()[:-1]\n",
    "        else:\n",
    "            continue\n",
    "        \n",
    "        for i in range(q):\n",
    "            for j in range(q):\n",
    "                result[i*n + int(x) - 1, j*n + int(y) - 1] = float(value)\n",
    "        \n",
    "    return result"
   ]
  },
  {
   "cell_type": "code",
   "execution_count": 4,
   "id": "b064b1d4",
   "metadata": {},
   "outputs": [],
   "source": [
    "def load_octave_matrix(filename):\n",
    "    with open(filename, \"r\") as file:\n",
    "        return file.readlines()"
   ]
  },
  {
   "cell_type": "code",
   "execution_count": 5,
   "id": "57ab5278",
   "metadata": {},
   "outputs": [],
   "source": [
    "data_dir = \"../../output\"\n",
    "\n",
    "def resolve_path(matrix_type, width, height = None, generate = False):\n",
    "    if height is None: height = width\n",
    "    path = f\"{data_dir}/{matrix_type}-{width}x{height}.txt\"\n",
    "    if os.path.isfile(path): return path\n",
    "    elif not generate:\n",
    "        raise FileNotFoundError(f\"Matrix file {path} was not found in data dir.\")\n",
    "    else: \n",
    "        if platform.system() == \"Windows\":\n",
    "            raise FileNotFoundError(f\"Matrix file {path} was not found in data dir.\\\n",
    "                Automated generation is not supported on your platform: {platform.system()}.\")\n",
    "\n",
    "        if width != height:\n",
    "            raise ValueError(\"Can only generate square matrix\")\n",
    "            \n",
    "        generate_matrix(matrix_type, width)\n",
    "        \n",
    "        if os.path.isfile(path): return path\n",
    "        else:\n",
    "            print(path)\n",
    "            raise RuntimeError(\"Failed to generate matrix\")"
   ]
  },
  {
   "cell_type": "code",
   "execution_count": 6,
   "id": "f937ee30",
   "metadata": {},
   "outputs": [],
   "source": [
    "def resolve_matrix(matrix_type, n, m, q = 1, generate = False):\n",
    "    return input_matrix(\n",
    "        load_octave_matrix(resolve_path(matrix_type, n, m, generate = generate)), n, m, q)"
   ]
  },
  {
   "cell_type": "code",
   "execution_count": 7,
   "id": "9029e452",
   "metadata": {},
   "outputs": [],
   "source": [
    "def generate_matrix(matrix_type, rank):\n",
    "    if matrix_type not in {'iga', 'fem'}:\n",
    "        raise ValueError(f\"Invalid matrix type: {matrix_type}\")\n",
    "        \n",
    "    if rank < 16 or not is_int(sqrt(rank)):\n",
    "        raise ValueError(f\"Invalid matrix rank: {rank}. Must be >= 16 and sqrt(rank) must be of type integer.\")\n",
    "        \n",
    "    rank_root = int(sqrt(rank))\n",
    "    \n",
    "    if matrix_type == 'fem':\n",
    "        for p in range(2, 5):\n",
    "            double_nxx = rank_root - p + 1\n",
    "            if double_nxx % 2 == 0 and double_nxx // 2 >= 2:\n",
    "                nxx = double_nxx // 2\n",
    "                pxx = p\n",
    "                break\n",
    "        else:\n",
    "            raise RuntimeError(f\"Failed to determine nxx, pxx for rank: {rank}\")\n",
    "    else:\n",
    "        for p in range(2, 5):\n",
    "            nxx = rank_root - p\n",
    "            if nxx >= 2:\n",
    "                pxx = p\n",
    "                break\n",
    "        else:\n",
    "            raise RuntimeError(f\"Failed to determine nxx, pxx for rank: {rank}\")\n",
    "    \n",
    "    cwd = os.getcwd()\n",
    "    os.chdir(os.getenv('SCRIPTS_DIR'))\n",
    "    !./generate-matrix.sh cpp {matrix_type} {nxx} {pxx} 0\n",
    "    os.chdir(cwd)"
   ]
  },
  {
   "cell_type": "markdown",
   "id": "27106bda",
   "metadata": {},
   "source": [
    "## Generowanie macierzy"
   ]
  },
  {
   "cell_type": "code",
   "execution_count": 32,
   "id": "943a57f8",
   "metadata": {},
   "outputs": [
    {
     "name": "stdout",
     "output_type": "stream",
     "text": [
      "riga=0 (iga)\r\n",
      "nxx=2\r\n",
      "pxx=2\r\n",
      "rxx=0\r\n"
     ]
    }
   ],
   "source": [
    "A_n = 16 # liczba wierszy i kolumn macierzy A\n",
    "A = resolve_matrix('iga', A_n, A_n, generate=True)\n",
    "\n",
    "B_n = 64 # liczba wierszy i kolumn macierzy B\n",
    "B = resolve_matrix('fem', B_n, B_n, generate=True)"
   ]
  },
  {
   "cell_type": "code",
   "execution_count": 33,
   "id": "b6e5527b",
   "metadata": {},
   "outputs": [
    {
     "data": {
      "image/png": "[encoded data removed]",
      "text/plain": [
       "<Figure size 1152x432 with 2 Axes>"
      ]
     },
     "metadata": {
      "needs_background": "light"
     },
     "output_type": "display_data"
    }
   ],
   "source": [
    "_, (ax_A, ax_B) = plt.subplots(nrows=1, ncols=2, figsize=(16,6))\n",
    "ax_A.set_title('Niezerowe wartości w macierzy A')\n",
    "ax_A.spy(A)\n",
    "ax_B.set_title('Niezerowe wartości w macierzy B')\n",
    "ax_B.spy(B)\n",
    "plt.show()"
   ]
  },
  {
   "cell_type": "markdown",
   "id": "78ec3124",
   "metadata": {},
   "source": [
    "## Implementacja formatu CSR"
   ]
  },
  {
   "cell_type": "code",
   "execution_count": 34,
   "id": "53f41705",
   "metadata": {},
   "outputs": [],
   "source": [
    "class CSRMatrix:\n",
    "    def __init__(self, matrix: Array = None):\n",
    "        self.non_zero_values_count = 0\n",
    "        self.N = 0 # wysokość/szerokość macierzy\n",
    "        self.column_indices = []\n",
    "        self.values = []\n",
    "        self.row_beginning_indices = []\n",
    "        if matrix is not None:\n",
    "            self.from_dense(matrix)\n",
    "    \n",
    "    def from_dense(self, matrix_dense: Array):\n",
    "        self.N = matrix_dense.shape[0]\n",
    "        for i in range(self.N): # wiersze\n",
    "            self.row_beginning_indices.append(self.non_zero_values_count) # nowy wiersz\n",
    "            for j in range(self.N): # kolumny\n",
    "                if matrix_dense[i,j] != 0:\n",
    "                    self.non_zero_values_count += 1\n",
    "                    self.column_indices.append(j)\n",
    "                    self.values.append(matrix_dense[i,j])\n",
    "                    \n",
    "        self.row_beginning_indices.append(self.non_zero_values_count)\n",
    "        \n",
    "    def remove_value_at(self, value_index: int, row_hint: int = None):\n",
    "        # usuwamy wartość z tablicy\n",
    "        self.values.remove(value_index) # operacja liniowa względem rozmiaru tablicy\n",
    "        self.column_indices(value_index) # operacja liniowa względem rozmiaru tablicy\n",
    "        self.non_zero_values_count -= 1\n",
    "        \n",
    "        # trzeba zaktualizować jeszcze wskaźniki na wiersze\n",
    "        if row_hint is None:\n",
    "            raise NotImplementedError(\"Row detection\")\n",
    "        else:\n",
    "            row_index = row_hint\n",
    "        \n",
    "        for i in range(row_index + 1, self.N):\n",
    "            self.row_beginning_indices[i] -= 1\n",
    "            \n",
    "#     def insert_value_at(self)"
   ]
  },
  {
   "cell_type": "markdown",
   "id": "8bfbb6dc",
   "metadata": {},
   "source": [
    "## Eliminacja Gaussa dla macierzy w formacie CSR"
   ]
  },
  {
   "cell_type": "code",
   "execution_count": 35,
   "id": "07d13289",
   "metadata": {},
   "outputs": [],
   "source": [
    "def sparse_gaussian_elimination(M: CSRMatrix, timer: Timer = None) -> None:\n",
    "    N = M.N\n",
    "    \n",
    "    if timer: timer.start()\n",
    "        \n",
    "\n",
    "    for k in range(N): # iterowanie po przekątnej macierzy\n",
    "        #########################################\n",
    "        # znajdujemy wyraz na przekątnej\n",
    "        #########################################\n",
    "        k_row_start = M.row_beginning_indices[k]\n",
    "        k1_row_start = M.row_beginning_indices[k + 1]\n",
    "        \n",
    "        # zakładam, że wartość na przekątnej jest niezerowa\n",
    "        # wtedy wartość na przekątnej jest pierwszą niezerową\n",
    "        # wartością w wierszu\n",
    "        M_kk = M.values[k_row_start]\n",
    "        print(f'k={k}, M_kk={M_kk}')\n",
    "        #########################################\n",
    "        for i in range(k_row_start, k1_row_start):\n",
    "            M.values[i] /= M_kk\n",
    "            \n",
    "        # iterujemy po wierszach poniżej przekątnej\n",
    "        for j in range(k + 1, N):\n",
    "            first_non_zero_col_ind_j = M.column_indices[M.row_beginning_indices[j]]\n",
    "            \n",
    "            if first_non_zero_col_ind_j != k: continue # <=> M_jk == 0\n",
    "                \n",
    "            j_row_start = M.row_beginning_indices[j]\n",
    "            j1_row_start = M.row_beginning_indices[j + 1]\n",
    "                \n",
    "            M_jk = M.values[j_row_start]\n",
    "            \n",
    "            k_iter = k_row_start\n",
    "            j_iter = j_row_start\n",
    "            while k_iter < k1_row_start and j_iter < j1_row_start:\n",
    "                k_col = M.column_indices[k_iter]\n",
    "                j_col = M.column_indices[j_iter]\n",
    "                \n",
    "                if k_col == j_col: # jeżeli ta sama kolumna, to aktualizujemy wartość\n",
    "                    M.values[j_iter] -= M_jk * M.values[k_iter]\n",
    "                    k_iter += 1\n",
    "                    j_iter += 1\n",
    "                    if abs(M.values[j_iter]) < 1e-9:\n",
    "                        M.remove_value_at(j_iter)\n",
    "                elif k_col < j_col: # jeżeli indeks góry jest < niż dołu\n",
    "                    k_iter += 1\n",
    "                else: # jeżeli indeks góry jest > niż dołu, to wartość zostaje niezmieniona\n",
    "                    j_iter += 1\n",
    "            # w k-tym mamy jeszcze niezerowe wartości a w j-tym już nie ==> potrzebujemy\n",
    "            # wstawiać wartości do j-tego wiersza\n",
    "            while k_iter < k1_row_start:\n",
    "                M.non_zero_values_count += 1\n",
    "                M.values.insert(j_iter, M.values[k_iter])\n",
    "                M.column_indices.insert(j_iter, M.column_indices[k_iter])\n",
    "                j_iter += 1\n",
    "                k_iter += 1\n",
    "\n",
    "                # jeżeli coś wstawialiśmy, to na końcu trzeba uaktualnić \n",
    "                # wskaźniki na kolejne wiersze\n",
    "                for i in range(j + 1, N):\n",
    "                    M.row_beginning_indices[i] += 1\n",
    "                    \n",
    "            # na końcu usuwamy wartość wyzerowaną\n",
    "            M.values.pop(j_row_start)\n",
    "            M.non_zero_values_count -= 1\n",
    "            M.column_indices.pop(j_row_start)\n",
    "                \n",
    "    if timer: timer.stop()"
   ]
  },
  {
   "cell_type": "markdown",
   "id": "b2811356",
   "metadata": {},
   "source": [
    "## Eliminacja Gaussa dla macierzy gęstej"
   ]
  },
  {
   "cell_type": "code",
   "execution_count": 36,
   "id": "ef051333",
   "metadata": {},
   "outputs": [],
   "source": [
    "def gaussian_elimination(\n",
    "    A: Array,\n",
    "    in_place: bool = False,\n",
    "    timer: Timer = None\n",
    ") -> Array:\n",
    "    \n",
    "    if not in_place: A = A.copy()\n",
    "    \n",
    "    if timer is not None:\n",
    "        timer.start()\n",
    "\n",
    "    n, _ = A.shape\n",
    "    for i in range(n):\n",
    "        A_i_i = A[i, i]\n",
    "        if abs(A_i_i) < 1e-4: print('0')\n",
    "        for j in range(i + 1, n):\n",
    "            factor = A[j, i] / A_i_i\n",
    "            A[j, i] = 0\n",
    "            for k in range(i + 1, n):\n",
    "                A[j, k] -= factor * A[i, k]\n",
    "                \n",
    "    if timer is not None: timer.stop()\n",
    "    if not in_place: return A"
   ]
  },
  {
   "cell_type": "markdown",
   "id": "ab9e1a15",
   "metadata": {},
   "source": [
    "## Porównanie czasów wykonania eliminacji dla macierzy A (1024x1024)"
   ]
  },
  {
   "cell_type": "code",
   "execution_count": 43,
   "id": "131ee060",
   "metadata": {},
   "outputs": [
    {
     "name": "stdout",
     "output_type": "stream",
     "text": [
      "[0.04, 0.0233333, 0.00333333, 0.0233333, 0.0136111, 0.00194444, 0.00333333, 0.00194444, 0.000277778, 0.0233333, 0.0666667, 0.04, 0.00333333, 0.0136111, 0.0388889, 0.0233333, 0.00194444, 0.00194444, 0.00555556, 0.00333333, 0.000277778, 0.00333333, 0.04, 0.0666667, 0.0233333, 0.00194444, 0.0233333, 0.0388889, 0.0136111, 0.000277778, 0.00333333, 0.00555556, 0.00194444, 0.00333333, 0.0233333, 0.04, 0.00194444, 0.0136111, 0.0233333, 0.000277778, 0.00194444, 0.00333333, 0.0233333, 0.0136111, 0.00194444, 0.0666667, 0.0388889, 0.00555556, 0.04, 0.0233333, 0.00333333, 0.00333333, 0.00194444, 0.000277778, 0.0136111, 0.0388889, 0.0233333, 0.00194444, 0.0388889, 0.111111, 0.0666667, 0.00555556, 0.0233333, 0.0666667, 0.04, 0.00333333, 0.00194444, 0.00555556, 0.00333333, 0.000277778, 0.00194444, 0.0233333, 0.0388889, 0.0136111, 0.00555556, 0.0666667, 0.111111, 0.0388889, 0.00333333, 0.04, 0.0666667, 0.0233333, 0.000277778, 0.00333333, 0.00555556, 0.00194444, 0.00194444, 0.0136111, 0.0233333, 0.00555556, 0.0388889, 0.0666667, 0.00333333, 0.0233333, 0.04, 0.000277778, 0.00194444, 0.00333333, 0.00333333, 0.00194444, 0.000277778, 0.04, 0.0233333, 0.00333333, 0.0666667, 0.0388889, 0.00555556, 0.0233333, 0.0136111, 0.00194444, 0.00194444, 0.00555556, 0.00333333, 0.000277778, 0.0233333, 0.0666667, 0.04, 0.00333333, 0.0388889, 0.111111, 0.0666667, 0.00555556, 0.0136111, 0.0388889, 0.0233333, 0.00194444, 0.000277778, 0.00333333, 0.00555556, 0.00194444, 0.00333333, 0.04, 0.0666667, 0.0233333, 0.00555556, 0.0666667, 0.111111, 0.0388889, 0.00194444, 0.0233333, 0.0388889, 0.0136111, 0.000277778, 0.00194444, 0.00333333, 0.00333333, 0.0233333, 0.04, 0.00555556, 0.0388889, 0.0666667, 0.00194444, 0.0136111, 0.0233333, 0.00333333, 0.00194444, 0.000277778, 0.0233333, 0.0136111, 0.00194444, 0.04, 0.0233333, 0.00333333, 0.00194444, 0.00555556, 0.00333333, 0.000277778, 0.0136111, 0.0388889, 0.0233333, 0.00194444, 0.0233333, 0.0666667, 0.04, 0.00333333, 0.000277778, 0.00333333, 0.00555556, 0.00194444, 0.00194444, 0.0233333, 0.0388889, 0.0136111, 0.00333333, 0.04, 0.0666667, 0.0233333, 0.000277778, 0.00194444, 0.00333333, 0.00194444, 0.0136111, 0.0233333, 0.00333333, 0.0233333, 0.04]\n",
      "NNZ\n",
      " 196\n",
      "CI\n",
      " [0, 1, 2, 4, 5, 6, 8, 9, 10, 0, 1, 2, 3, 4, 5, 6, 7, 8, 9, 10, 11, 0, 1, 2, 3, 4, 5, 6, 7, 8, 9, 10, 11, 1, 2, 3, 5, 6, 7, 9, 10, 11, 0, 1, 2, 4, 5, 6, 8, 9, 10, 12, 13, 14, 0, 1, 2, 3, 4, 5, 6, 7, 8, 9, 10, 11, 12, 13, 14, 15, 0, 1, 2, 3, 4, 5, 6, 7, 8, 9, 10, 11, 12, 13, 14, 15, 1, 2, 3, 5, 6, 7, 9, 10, 11, 13, 14, 15, 0, 1, 2, 4, 5, 6, 8, 9, 10, 12, 13, 14, 0, 1, 2, 3, 4, 5, 6, 7, 8, 9, 10, 11, 12, 13, 14, 15, 0, 1, 2, 3, 4, 5, 6, 7, 8, 9, 10, 11, 12, 13, 14, 15, 1, 2, 3, 5, 6, 7, 9, 10, 11, 13, 14, 15, 4, 5, 6, 8, 9, 10, 12, 13, 14, 4, 5, 6, 7, 8, 9, 10, 11, 12, 13, 14, 15, 4, 5, 6, 7, 8, 9, 10, 11, 12, 13, 14, 15, 5, 6, 7, 9, 10, 11, 13, 14, 15]\n",
      "RI\n",
      " [0, 9, 21, 33, 42, 54, 70, 86, 98, 110, 126, 142, 154, 163, 175, 187, 196]\n",
      "k=0, M_kk=0.04\n",
      "k=1, M_kk=0.05305562777775\n",
      "k=2, M_kk=0.03797563601923647\n",
      "k=3, M_kk=0.04\n",
      "k=4, M_kk=0.06656714126738195\n",
      "k=5, M_kk=0.08829736304448023\n",
      "k=6, M_kk=0.06322574014156\n",
      "k=7, M_kk=0.00333333\n",
      "k=8, M_kk=0.0666667\n"
     ]
    },
    {
     "ename": "IndexError",
     "evalue": "list index out of range",
     "output_type": "error",
     "traceback": [
      "\u001b[0;31m---------------------------------------------------------------------------\u001b[0m",
      "\u001b[0;31mIndexError\u001b[0m                                Traceback (most recent call last)",
      "\u001b[0;32m/tmp/ipykernel_125511/1438878615.py\u001b[0m in \u001b[0;36m<module>\u001b[0;34m\u001b[0m\n\u001b[1;32m     19\u001b[0m     \u001b[0mprint\u001b[0m\u001b[0;34m(\u001b[0m\u001b[0;34m'RI\\n'\u001b[0m\u001b[0;34m,\u001b[0m \u001b[0mA_sparse\u001b[0m\u001b[0;34m.\u001b[0m\u001b[0mrow_beginning_indices\u001b[0m\u001b[0;34m)\u001b[0m\u001b[0;34m\u001b[0m\u001b[0;34m\u001b[0m\u001b[0m\n\u001b[1;32m     20\u001b[0m \u001b[0;34m\u001b[0m\u001b[0m\n\u001b[0;32m---> 21\u001b[0;31m     \u001b[0msparse_gaussian_elimination\u001b[0m\u001b[0;34m(\u001b[0m\u001b[0mA_sparse\u001b[0m\u001b[0;34m,\u001b[0m \u001b[0mtimer\u001b[0m\u001b[0;34m)\u001b[0m\u001b[0;34m\u001b[0m\u001b[0;34m\u001b[0m\u001b[0m\n\u001b[0m\u001b[1;32m     22\u001b[0m     \u001b[0msparse_exec_time_A\u001b[0m \u001b[0;34m+=\u001b[0m \u001b[0mtimer\u001b[0m\u001b[0;34m.\u001b[0m\u001b[0melapsed\u001b[0m\u001b[0;34m\u001b[0m\u001b[0;34m\u001b[0m\u001b[0m\n\u001b[1;32m     23\u001b[0m \u001b[0;34m\u001b[0m\u001b[0m\n",
      "\u001b[0;32m/tmp/ipykernel_125511/3774881412.py\u001b[0m in \u001b[0;36msparse_gaussian_elimination\u001b[0;34m(M, timer)\u001b[0m\n\u001b[1;32m     23\u001b[0m         \u001b[0;31m# iterujemy po wierszach poniżej przekątnej\u001b[0m\u001b[0;34m\u001b[0m\u001b[0;34m\u001b[0m\u001b[0;34m\u001b[0m\u001b[0m\n\u001b[1;32m     24\u001b[0m         \u001b[0;32mfor\u001b[0m \u001b[0mj\u001b[0m \u001b[0;32min\u001b[0m \u001b[0mrange\u001b[0m\u001b[0;34m(\u001b[0m\u001b[0mk\u001b[0m \u001b[0;34m+\u001b[0m \u001b[0;36m1\u001b[0m\u001b[0;34m,\u001b[0m \u001b[0mN\u001b[0m\u001b[0;34m)\u001b[0m\u001b[0;34m:\u001b[0m\u001b[0;34m\u001b[0m\u001b[0;34m\u001b[0m\u001b[0m\n\u001b[0;32m---> 25\u001b[0;31m             \u001b[0mfirst_non_zero_col_ind_j\u001b[0m \u001b[0;34m=\u001b[0m \u001b[0mM\u001b[0m\u001b[0;34m.\u001b[0m\u001b[0mcolumn_indices\u001b[0m\u001b[0;34m[\u001b[0m\u001b[0mM\u001b[0m\u001b[0;34m.\u001b[0m\u001b[0mrow_beginning_indices\u001b[0m\u001b[0;34m[\u001b[0m\u001b[0mj\u001b[0m\u001b[0;34m]\u001b[0m\u001b[0;34m]\u001b[0m\u001b[0;34m\u001b[0m\u001b[0;34m\u001b[0m\u001b[0m\n\u001b[0m\u001b[1;32m     26\u001b[0m \u001b[0;34m\u001b[0m\u001b[0m\n\u001b[1;32m     27\u001b[0m             \u001b[0;32mif\u001b[0m \u001b[0mfirst_non_zero_col_ind_j\u001b[0m \u001b[0;34m!=\u001b[0m \u001b[0mk\u001b[0m\u001b[0;34m:\u001b[0m \u001b[0;32mcontinue\u001b[0m \u001b[0;31m# <=> M_jk == 0\u001b[0m\u001b[0;34m\u001b[0m\u001b[0;34m\u001b[0m\u001b[0m\n",
      "\u001b[0;31mIndexError\u001b[0m: list index out of range"
     ]
    }
   ],
   "source": [
    "from pprint import pprint\n",
    "n_tests = 1\n",
    "\n",
    "sparse_exec_time_A = 0\n",
    "dense_exec_time_A = 0\n",
    "\n",
    "timer = Timer()\n",
    "\n",
    "for test_no in range(n_tests):\n",
    "    gaussian_elimination(A, in_place=False, timer=timer)\n",
    "    dense_exec_time_A += timer.elapsed\n",
    "\n",
    "    \n",
    "for test_no in range(n_tests):\n",
    "    A_sparse = CSRMatrix(A)\n",
    "    print(A_sparse.values)\n",
    "    print('NNZ\\n', A_sparse.non_zero_values_count)\n",
    "    print('CI\\n', A_sparse.column_indices)\n",
    "    print('RI\\n', A_sparse.row_beginning_indices)\n",
    "    \n",
    "    sparse_gaussian_elimination(A_sparse, timer)\n",
    "    sparse_exec_time_A += timer.elapsed\n",
    "    \n",
    "\n",
    "sparse_exec_time_A /= n_tests\n",
    "dense_exec_time_A /= n_tests\n",
    "\n",
    "print(f'Średni czas wykonania dla eliminacji \"rzadkiej\": {sparse_exec_time_A:.5f}s')\n",
    "print(f'Średni czas wykonania dla eliminacji \"gęstej\": {dense_exec_time_A:.5f}s')"
   ]
  },
  {
   "cell_type": "markdown",
   "id": "431da89f",
   "metadata": {},
   "source": [
    "## Porównanie czasów wykonania eliminacji dla macierzy B (1600x1600)"
   ]
  },
  {
   "cell_type": "code",
   "execution_count": null,
   "id": "8a7c0acf",
   "metadata": {},
   "outputs": [],
   "source": [
    "n_tests = 1\n",
    "\n",
    "sparse_exec_time_B = 0\n",
    "dense_exec_time_B = 0\n",
    "\n",
    "for test_no in range(n_tests):\n",
    "    B_sparse = CSRMatrix(B)\n",
    "    sparse_gaussian_elimination(B_sparse, timer)\n",
    "    sparse_exec_time_B += timer.elapsed\n",
    "    \n",
    "for test_no in range(n_tests):\n",
    "    gaussian_elimination(B, in_place=False, timer=timer)\n",
    "    dense_exec_time_B += timer.elapsed\n",
    "    \n",
    "sparse_exec_time_B /= n_tests\n",
    "dense_exec_time_B /= n_tests\n",
    "\n",
    "print(f'Średni czas wykonania dla eliminacji \"rzadkiej\": {sparse_exec_time_B:.5f}s')\n",
    "print(f'Średni czas wykonania dla eliminacji \"gęstej\": {dense_exec_time_B:.5f}s')"
   ]
  },
  {
   "cell_type": "code",
   "execution_count": null,
   "id": "02248f5d",
   "metadata": {},
   "outputs": [],
   "source": []
  }
 ],
 "metadata": {
  "kernelspec": {
   "display_name": "Python 3 (ipykernel)",
   "language": "python",
   "name": "python3"
  },
  "language_info": {
   "codemirror_mode": {
    "name": "ipython",
    "version": 3
   },
   "file_extension": ".py",
   "mimetype": "text/x-python",
   "name": "python",
   "nbconvert_exporter": "python",
   "pygments_lexer": "ipython3",
   "version": "3.9.0"
  }
 },
 "nbformat": 4,
 "nbformat_minor": 5
}
