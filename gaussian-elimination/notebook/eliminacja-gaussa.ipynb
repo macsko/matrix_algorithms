{
 "cells": [
  {
   "cell_type": "markdown",
   "id": "a31db8b4",
   "metadata": {},
   "source": [
    "# Dopełnienie Schur'a z użyciem eliminacji Gaussa\n",
    "\n",
    "**Maciej Skoczeń**, **Kacper Kafara**\n",
    "\n",
    "grupa wtorek (A) 17:50"
   ]
  },
  {
   "cell_type": "markdown",
   "id": "16ed7e6a",
   "metadata": {},
   "source": [
    "## Środowisko obliczeniowe\n",
    "\n",
    "**OSOBA WYKONUJĄCA OSTATECZNE OBLICZENIA POWINNA WPISAĆ TUTAJ SPECYFIKACJĘ SWOJEGO SPRZĘTU"
   ]
  },
  {
   "cell_type": "markdown",
   "id": "931519c1",
   "metadata": {},
   "source": [
    "## Importy"
   ]
  },
  {
   "cell_type": "code",
   "execution_count": 1,
   "id": "c0e57c70",
   "metadata": {},
   "outputs": [],
   "source": [
    "import numpy as np\n",
    "import matplotlib.pyplot as plt"
   ]
  },
  {
   "cell_type": "markdown",
   "id": "06f6dbba",
   "metadata": {},
   "source": [
    "###  Wczytywanie macierzy\n",
    "\n",
    "wygenerowanej za pomocą dostarczonego skryptu `mass_matrix`"
   ]
  },
  {
   "cell_type": "code",
   "execution_count": 2,
   "id": "9b785e71",
   "metadata": {},
   "outputs": [],
   "source": [
    "def input_matrix(octave_matrix, n, m, q=1):\n",
    "    result = np.zeros((n*q, m*q), dtype=np.double)\n",
    "    \n",
    "    for elem in octave_matrix:\n",
    "        m = re.match(r\"\\s*\\((\\d+),\\s*(\\d+)\\)\\s*->\\s*(\\d+\\.\\d+)\\s*\", elem)\n",
    "        if m is not None:\n",
    "            x, y, value = m.groups()\n",
    "        elif len(elem) > 0:\n",
    "            coord, value = elem.strip().split(' -> ')\n",
    "            value = float(value)\n",
    "            x, y = coord.split(',')\n",
    "            x, y = x[1:], y.strip()[:-1]\n",
    "        else:\n",
    "            continue\n",
    "        \n",
    "        for i in range(q):\n",
    "            for j in range(q):\n",
    "                result[i*n + int(x) - 1, j*n + int(y) - 1] = float(value)\n",
    "        \n",
    "    return result"
   ]
  },
  {
   "cell_type": "code",
   "execution_count": 3,
   "id": "2bfb1454",
   "metadata": {},
   "outputs": [],
   "source": [
    "def load_octave_matrix(filename):\n",
    "    with open(filename, \"r\") as file:\n",
    "        return file.readlines()"
   ]
  },
  {
   "cell_type": "code",
   "execution_count": 4,
   "id": "016f4a63",
   "metadata": {},
   "outputs": [],
   "source": [
    "data_dir = \"../output\"\n",
    "\n",
    "def resolve_path(matrix_type, width, height = None):\n",
    "    if height is None: height = width\n",
    "    path = f\"{data_dir}/{matrix_type}-{width}x{height}.txt\"\n",
    "    if os.path.isfile(path): return path\n",
    "    else: raise FileNotFoundError(f\"Matrix file {path} not found\")\n",
    "\n",
    "resolve_matrix = lambda matrix_type, n, m, q = 1: input_matrix(\n",
    "    load_octave_matrix(resolve_path(matrix_type, n, m)), n, m, q\n",
    ")"
   ]
  },
  {
   "cell_type": "code",
   "execution_count": null,
   "id": "fb22102d",
   "metadata": {},
   "outputs": [],
   "source": []
  }
 ],
 "metadata": {
  "kernelspec": {
   "display_name": "Python 3 (ipykernel)",
   "language": "python",
   "name": "python3"
  },
  "language_info": {
   "codemirror_mode": {
    "name": "ipython",
    "version": 3
   },
   "file_extension": ".py",
   "mimetype": "text/x-python",
   "name": "python",
   "nbconvert_exporter": "python",
   "pygments_lexer": "ipython3",
   "version": "3.9.0"
  }
 },
 "nbformat": 4,
 "nbformat_minor": 5
}
