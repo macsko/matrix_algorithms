{
 "cells": [
  {
   "cell_type": "markdown",
   "id": "a31db8b4",
   "metadata": {},
   "source": [
    "# Mnożenie macierzy rzadkich w formatach CSR i CSC\n",
    "\n",
    "**Maciej Skoczeń**, **Kacper Kafara**\n",
    "\n",
    "grupa wtorek (A) 17:50"
   ]
  },
  {
   "cell_type": "markdown",
   "id": "16ed7e6a",
   "metadata": {},
   "source": [
    "## Środowisko obliczeniowe\n",
    "\n",
    "Procesor: Intel i7-9750H @ 2,6 GHz; 6 rdzeni fizycznych (12 log.)"
   ]
  },
  {
   "cell_type": "markdown",
   "id": "cf026442",
   "metadata": {},
   "source": [
    "## Importy & typy"
   ]
  },
  {
   "cell_type": "code",
   "execution_count": 1,
   "id": "db85f9a7",
   "metadata": {},
   "outputs": [],
   "source": [
    "import numpy as np\n",
    "import matplotlib.pyplot as plt\n",
    "import os\n",
    "import re\n",
    "import subprocess\n",
    "import matplotlib.pyplot as plt\n",
    "import platform\n",
    "\n",
    "from timeit import default_timer\n",
    "from math import sqrt\n",
    "\n",
    "Array = np.ndarray"
   ]
  },
  {
   "cell_type": "markdown",
   "id": "50896b14",
   "metadata": {},
   "source": [
    "## Funkcje pomocnicze"
   ]
  },
  {
   "cell_type": "code",
   "execution_count": 2,
   "id": "37ce812f",
   "metadata": {},
   "outputs": [],
   "source": [
    "class Timer(object):\n",
    "    def __init__(self):\n",
    "        self._start_time = None\n",
    "        self._stop_time = None\n",
    "\n",
    "    def start(self):\n",
    "        self._start_time = default_timer()\n",
    "\n",
    "    def stop(self):\n",
    "        self._stop_time = default_timer()\n",
    "\n",
    "    @property\n",
    "    def elapsed(self, val = None):\n",
    "        if self._stop_time is None or self._start_time is None:\n",
    "            return None\n",
    "        elapsed = self._stop_time - self._start_time\n",
    "        return elapsed\n",
    "\n",
    "# mock impl\n",
    "def is_int(value) -> bool:\n",
    "    as_int = int(value)\n",
    "    return value == as_int"
   ]
  },
  {
   "cell_type": "markdown",
   "id": "5537fbd4",
   "metadata": {},
   "source": [
    "###  Wczytywanie macierzy\n",
    "\n",
    "wygenerowanej za pomocą dostarczonego skryptu `mass_matrix`, przepisanego do C++."
   ]
  },
  {
   "cell_type": "code",
   "execution_count": 3,
   "id": "2efdc86e",
   "metadata": {},
   "outputs": [],
   "source": [
    "def input_matrix(octave_matrix, n, m, q=1):\n",
    "    result = np.zeros((n*q, m*q), dtype=np.double)\n",
    "    \n",
    "    for elem in octave_matrix:\n",
    "        m = re.match(r\"\\s*\\((\\d+),\\s*(\\d+)\\)\\s*->\\s*(\\d+\\.\\d+)\\s*\", elem)\n",
    "        if m is not None:\n",
    "            x, y, value = m.groups()\n",
    "        elif len(elem) > 0:\n",
    "            coord, value = elem.strip().split(' -> ')\n",
    "            value = float(value)\n",
    "            x, y = coord.split(',')\n",
    "            x, y = x[1:], y.strip()[:-1]\n",
    "        else:\n",
    "            continue\n",
    "        \n",
    "        for i in range(q):\n",
    "            for j in range(q):\n",
    "                result[i*n + int(x) - 1, j*n + int(y) - 1] = float(value)\n",
    "        \n",
    "    return result"
   ]
  },
  {
   "cell_type": "code",
   "execution_count": 4,
   "id": "7b2dbfcb",
   "metadata": {},
   "outputs": [],
   "source": [
    "def load_octave_matrix(filename):\n",
    "    with open(filename, \"r\") as file:\n",
    "        return file.readlines()"
   ]
  },
  {
   "cell_type": "code",
   "execution_count": 5,
   "id": "0417c275",
   "metadata": {
    "tags": []
   },
   "outputs": [],
   "source": [
    "data_dir = \"../../output\"\n",
    "\n",
    "def resolve_path(matrix_type, width, height = None, generate = False):\n",
    "    if height is None: height = width\n",
    "    path = f\"{data_dir}/{matrix_type}-{width}x{height}.txt\"\n",
    "    if os.path.isfile(path): return path\n",
    "    elif not generate:\n",
    "        raise FileNotFoundError(f\"Matrix file {path} was not found in data dir.\")\n",
    "    else: \n",
    "        if platform.system() == \"Windows\":\n",
    "            raise FileNotFoundError(f\"Matrix file {path} was not found in data dir.\\\n",
    "                Automated generation is not supported on your platform: {platform.system()}.\")\n",
    "\n",
    "        if width != height:\n",
    "            raise ValueError(\"Can only generate square matrix\")\n",
    "            \n",
    "        generate_matrix(matrix_type, width)\n",
    "        \n",
    "        if os.path.isfile(path): return path\n",
    "        else:\n",
    "            print(path)\n",
    "            raise RuntimeError(\"Failed to generate matrix\")"
   ]
  },
  {
   "cell_type": "code",
   "execution_count": 6,
   "id": "af0bb4f9",
   "metadata": {
    "tags": []
   },
   "outputs": [],
   "source": [
    "def resolve_matrix(matrix_type, n, m, q = 1, generate = False):\n",
    "    return input_matrix(\n",
    "        load_octave_matrix(resolve_path(matrix_type, n, m, generate = generate)), n, m, q)"
   ]
  },
  {
   "cell_type": "code",
   "execution_count": 7,
   "id": "ed2b73f7",
   "metadata": {
    "tags": []
   },
   "outputs": [],
   "source": [
    "def generate_matrix(matrix_type, rank):\n",
    "    if matrix_type not in {'iga', 'fem'}:\n",
    "        raise ValueError(f\"Invalid matrix type: {matrix_type}\")\n",
    "        \n",
    "    if rank < 16 or not is_int(sqrt(rank)):\n",
    "        raise ValueError(f\"Invalid matrix rank: {rank}. Must be >= 16 and sqrt(rank) must be of type integer.\")\n",
    "        \n",
    "    rank_root = int(sqrt(rank))\n",
    "    \n",
    "    if matrix_type == 'fem':\n",
    "        for p in range(2, 5):\n",
    "            double_nxx = rank_root - p + 1\n",
    "            if double_nxx % 2 == 0 and double_nxx // 2 >= 2:\n",
    "                nxx = double_nxx // 2\n",
    "                pxx = p\n",
    "                break\n",
    "        else:\n",
    "            raise RuntimeError(f\"Failed to determine nxx, pxx for rank: {rank}\")\n",
    "    else:\n",
    "        for p in range(2, 5):\n",
    "            nxx = rank_root - p\n",
    "            if nxx >= 2:\n",
    "                pxx = p\n",
    "                break\n",
    "        else:\n",
    "            raise RuntimeError(f\"Failed to determine nxx, pxx for rank: {rank}\")\n",
    "    \n",
    "    cwd = os.getcwd()\n",
    "    os.chdir(os.getenv('SCRIPTS_DIR'))\n",
    "    !./generate-matrix.sh cpp {matrix_type} {nxx} {pxx} 0\n",
    "    os.chdir(cwd)"
   ]
  },
  {
   "cell_type": "markdown",
   "id": "e16d3ab5-8664-4a48-b2a2-eaa6c4e2a30d",
   "metadata": {},
   "source": [
    "## Generowanie macierzy"
   ]
  },
  {
   "cell_type": "markdown",
   "id": "916c254d-71a3-4f21-87e9-8e2eb12a8c2d",
   "metadata": {},
   "source": [
    "Zgodnie z poleceniem, będziemy mnożyć swoje macierze z laboratorium 1, czyli IGA * FEM.    \n",
    "Zostały one wygenerowane skryptem mass_matrix z parametrami:\n",
    " - IGA: riga=0 nxx=30 pxx=2 rxx=0\n",
    " - FEM: riga=1 nxx=15 pxx=3 rxx=0   \n",
    " \n",
    "Ostatecznie otrzymaliśmy macierze o wymiarach $1024x1024$."
   ]
  },
  {
   "cell_type": "code",
   "execution_count": 8,
   "id": "f63d154b-2e45-4568-9996-2ddd93f134d5",
   "metadata": {},
   "outputs": [
    {
     "name": "stdout",
     "output_type": "stream",
     "text": [
      "riga=0 (iga)\n",
      "nxx=30\n",
      "pxx=2\n",
      "rxx=0\n",
      "riga=1 (fem)\n",
      "nxx=15\n",
      "pxx=3\n",
      "rxx=0\n"
     ]
    }
   ],
   "source": [
    "n = 1024 # liczba wierszy i kolumn macierzy A i B\n",
    "A = resolve_matrix('iga', n, n, generate=True)\n",
    "B = resolve_matrix('fem', n, n, generate=True)"
   ]
  },
  {
   "cell_type": "code",
   "execution_count": 9,
   "id": "1dfe0717-a554-446c-a9d8-aac1cfecedfc",
   "metadata": {},
   "outputs": [
    {
     "data": {
      "image/png": "[encoded data removed]",
      "text/plain": [
       "<Figure size 1152x1152 with 3 Axes>"
      ]
     },
     "metadata": {
      "needs_background": "light"
     },
     "output_type": "display_data"
    }
   ],
   "source": [
    "fig, (ax1, ax2, ax3) = plt.subplots(1, 3, figsize=(16,16))\n",
    "ax1.set_title('Niezerowe wartości w macierzy A')\n",
    "ax1.spy(A)\n",
    "ax2.set_title('Niezerowe wartości w macierzy B')\n",
    "ax2.spy(B)\n",
    "ax3.set_title('Niezerowe wartości w macierzy C = A*B')\n",
    "ax3.spy(A@B)\n",
    "plt.show()"
   ]
  },
  {
   "cell_type": "markdown",
   "id": "aae341d7-a241-4dd9-a3a3-db44b8103c46",
   "metadata": {},
   "source": [
    "## Mnożenie macierzy algorytmem z laboratorium 1"
   ]
  },
  {
   "cell_type": "markdown",
   "id": "290fe7cc-c9eb-4709-bf77-e6a1df5a3a17",
   "metadata": {},
   "source": [
    "Najkrótsze czasy dawała wtedy kolejność pętli jip."
   ]
  },
  {
   "cell_type": "code",
   "execution_count": 10,
   "id": "65a8c43e-fc7f-44d5-af9d-a19c045e05ab",
   "metadata": {},
   "outputs": [],
   "source": [
    "def dot_product(vect1, vect2, k):\n",
    "    result = 0\n",
    "    for p in range(k):\n",
    "        result += vect1[p]*vect2[p]\n",
    "    return result\n",
    "\n",
    "def jip_dense_mul(A, B, n, m, k, timer = None):\n",
    "    C = np.zeros((n, m))\n",
    "    if timer: timer.start()\n",
    "    for j in range(m):\n",
    "        for i in range(n):\n",
    "            C[i,j] = dot_product(A[i, 0:k], B[0:k, j], k)\n",
    "    if timer: timer.stop()\n",
    "    return C"
   ]
  },
  {
   "cell_type": "code",
   "execution_count": 11,
   "id": "173c08ba-a7ee-413f-8650-9ef705c19ee9",
   "metadata": {},
   "outputs": [
    {
     "name": "stdout",
     "output_type": "stream",
     "text": [
      "Czas mnożenia macierzy gęstych: 394.82665s\n"
     ]
    }
   ],
   "source": [
    "r = 5\n",
    "timer = Timer()\n",
    "times = [0]*r\n",
    "for i in range(r):\n",
    "    C = jip_dense_mul(A, B, n, n, n, timer)\n",
    "    times[i] = timer.elapsed\n",
    "    \n",
    "print(f'Czas mnożenia macierzy gęstych: {sum(times)/r:.5f}s')"
   ]
  },
  {
   "cell_type": "markdown",
   "id": "3b46af54",
   "metadata": {},
   "source": [
    "## Konwersja do macierzy rzadkich"
   ]
  },
  {
   "cell_type": "markdown",
   "id": "a27b926f-50bb-435e-b366-9b2c078edaf2",
   "metadata": {},
   "source": [
    "Przyjmujemy, że macierze są kwadratowe. Następnie idziemy po macierzy gęstej wierszami dla CSR, a kolumnami dla CSC. Wypełniamy tablice reprezentacji macierzy rzadkich jedynie dla wartości niezerowych."
   ]
  },
  {
   "cell_type": "code",
   "execution_count": 12,
   "id": "9a3e4fe3",
   "metadata": {
    "tags": []
   },
   "outputs": [],
   "source": [
    "class CSRMatrix:\n",
    "    def __init__(self, matrix = None):\n",
    "        self.NNZ = 0 # liczba niezerowych elementów\n",
    "        self.N = 0 # wysokość/szerokość macierzy\n",
    "        self.icl = [] # kolumna dla danej wartości\n",
    "        self.val = [] # wartości niezerowe\n",
    "        self.rowptr = [] # indeksy początków kolumn\n",
    "        if matrix is not None:\n",
    "            self.from_dense(matrix)\n",
    "    \n",
    "    def from_dense(self, matrix_dense):\n",
    "        self.N = matrix_dense.shape[0]\n",
    "        for i in range(self.N): # wiersze\n",
    "            self.rowptr.append(self.NNZ) # nowy wiersz\n",
    "            for j in range(self.N): # kolumny\n",
    "                if matrix_dense[i,j] != 0:\n",
    "                    self.NNZ += 1\n",
    "                    self.icl.append(j)\n",
    "                    self.val.append(matrix_dense[i,j])\n",
    "                    \n",
    "        self.rowptr.append(self.NNZ)\n",
    "    \n",
    "\n",
    "class CSCMatrix:\n",
    "    def __init__(self, matrix = None):\n",
    "        self.NNZ = 0\n",
    "        self.N = 0\n",
    "        self.irn = []\n",
    "        self.val = []\n",
    "        self.colptr = []\n",
    "        if matrix is not None:\n",
    "            self.from_dense(matrix)\n",
    "    \n",
    "    def from_dense(self, matrix_dense):\n",
    "        self.N = matrix_dense.shape[0]\n",
    "        for j in range(self.N): # kolumny\n",
    "            self.colptr.append(self.NNZ) # nowa kolumna\n",
    "            for i in range(self.N): # wiersze\n",
    "                if matrix_dense[i,j] != 0:\n",
    "                    self.NNZ += 1\n",
    "                    self.irn.append(i)\n",
    "                    self.val.append(matrix_dense[i,j])\n",
    "                    \n",
    "        self.colptr.append(self.NNZ)"
   ]
  },
  {
   "cell_type": "code",
   "execution_count": 13,
   "id": "3e076334",
   "metadata": {},
   "outputs": [],
   "source": [
    "A_sparse = CSRMatrix(A)\n",
    "B_sparse = CSCMatrix(B)"
   ]
  },
  {
   "cell_type": "markdown",
   "id": "1db93034-79b9-4490-b8f5-b0410d7242f4",
   "metadata": {},
   "source": [
    "## Mnożenie macierzy CSR * CSC"
   ]
  },
  {
   "cell_type": "markdown",
   "id": "fcf1ea07-f024-423a-a9cf-b4ada1a4c5d1",
   "metadata": {},
   "source": [
    "Kolejność pętli zachowujemy taką, jak dla mnożenia macierzy gęstych, czyli jip. Nastąpiła tutaj modyfikacja dwóch wewnętrznych pętli, gdzie zamiast przechodzić po wszystkich możliwych indeksach, skaczemy po elementach i porównujemy ze sobą indeksy w wierszu macierzy A oraz kolumnie macierzy B. Mnożenie jest wymagane jedynie dla elementów gdzie ten indeks jest równy, w pozostałych przypadkach mnoży się przez 0, co naturalnie daje również taki wynik i można takie przypadki bezproblemowo pomijać."
   ]
  },
  {
   "cell_type": "code",
   "execution_count": 14,
   "id": "0e0e8975",
   "metadata": {
    "tags": []
   },
   "outputs": [],
   "source": [
    "def csr_csc_mul(\n",
    "    A: CSRMatrix, \n",
    "    B: CSCMatrix, \n",
    "    timer: Timer = None,\n",
    "    sparse_result: bool = False # wynik w postaci macierzy CSR zamiast gęstej\n",
    "):\n",
    "    n = A.N\n",
    "    if sparse_result:\n",
    "        C = CSCMatrix()\n",
    "        C.N = n\n",
    "    else:\n",
    "        C = np.zeros((n, n))\n",
    "        \n",
    "    if timer: timer.start()\n",
    "    \n",
    "    for j in range(n): # kolumny\n",
    "        if sparse_result:\n",
    "            C.colptr.append(C.NNZ)\n",
    "        i = 0 # wiersz\n",
    "        A_iter = 0 # iterator po tablicach icl oraz val macierzy A\n",
    "        while True: # pętla po wierszach\n",
    "            if A_iter == A.NNZ or i == n: # koniec macierzy A, zmiana kolumny\n",
    "                break\n",
    "            \n",
    "            B_iter = B.colptr[j] # iterator po tablicach irn oraz val macierzy B\n",
    "            tmp_result = 0\n",
    "            while True: # pętla po elementach w wierszu/kolumnie macierzy A/B\n",
    "                if A.rowptr[i + 1] <= A_iter or B.colptr[j + 1] <= B_iter: # koniec iteratora, zmiana wiersza\n",
    "                    i += 1\n",
    "                    A_iter = A.rowptr[i]\n",
    "                    break\n",
    "                if A.icl[A_iter] == B.irn[B_iter]: # elementy w wierszu/kolumnie macierzy A/B mają ten sam indeks\n",
    "                    tmp_result += A.val[A_iter] * B.val[B_iter]\n",
    "                    A_iter += 1\n",
    "                    B_iter += 1\n",
    "                elif A.icl[A_iter] < B.irn[B_iter]:\n",
    "                    A_iter += 1\n",
    "                else:\n",
    "                    B_iter += 1\n",
    "                    \n",
    "            if tmp_result != 0:\n",
    "                if sparse_result:\n",
    "                    C.irn.append(i - 1)\n",
    "                    C.val.append(tmp_result)\n",
    "                    C.NNZ += 1\n",
    "                else:\n",
    "                    C[i - 1,j] = tmp_result\n",
    "                \n",
    "    if timer: timer.stop()\n",
    "    return C"
   ]
  },
  {
   "cell_type": "code",
   "execution_count": 15,
   "id": "f6ad80ee-2352-4a37-b463-ba01f8f034df",
   "metadata": {},
   "outputs": [
    {
     "name": "stdout",
     "output_type": "stream",
     "text": [
      "Czas mnożenia macierzy rzadkich: 15.97753s\n"
     ]
    }
   ],
   "source": [
    "r = 5\n",
    "timer = Timer()\n",
    "times = [0]*r\n",
    "for i in range(r):\n",
    "    C = csr_csc_mul(A_sparse, B_sparse, timer)\n",
    "    times[i] = timer.elapsed\n",
    "    \n",
    "print(f'Czas mnożenia macierzy rzadkich: {sum(times)/r:.5f}s')"
   ]
  }
 ],
 "metadata": {
  "kernelspec": {
   "display_name": "Python 3 (ipykernel)",
   "language": "python",
   "name": "python3"
  },
  "language_info": {
   "codemirror_mode": {
    "name": "ipython",
    "version": 3
   },
   "file_extension": ".py",
   "mimetype": "text/x-python",
   "name": "python",
   "nbconvert_exporter": "python",
   "pygments_lexer": "ipython3",
   "version": "3.9.0"
  }
 },
 "nbformat": 4,
 "nbformat_minor": 5
}
